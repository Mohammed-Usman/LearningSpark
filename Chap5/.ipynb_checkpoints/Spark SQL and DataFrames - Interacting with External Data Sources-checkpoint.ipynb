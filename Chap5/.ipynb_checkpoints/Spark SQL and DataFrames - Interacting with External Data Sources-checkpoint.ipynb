{
 "cells": [
  {
   "cell_type": "code",
   "execution_count": 13,
   "id": "latin-galaxy",
   "metadata": {},
   "outputs": [],
   "source": [
    "from pyspark.sql import SparkSession\n",
    "from pyspark.sql.types import LongType, IntegerType"
   ]
  },
  {
   "cell_type": "code",
   "execution_count": 2,
   "id": "listed-sound",
   "metadata": {},
   "outputs": [],
   "source": [
    "spark = SparkSession.builder.appName(\"Spark Chap5 Parctice\").enableHiveSupport().getOrCreate()"
   ]
  },
  {
   "cell_type": "markdown",
   "id": "together-trash",
   "metadata": {},
   "source": [
    "#### Spark SQL UDFs"
   ]
  },
  {
   "cell_type": "code",
   "execution_count": 8,
   "id": "built-split",
   "metadata": {},
   "outputs": [],
   "source": [
    "def cubed(s):\n",
    "    return s * s * s"
   ]
  },
  {
   "cell_type": "code",
   "execution_count": 9,
   "id": "pending-pixel",
   "metadata": {},
   "outputs": [
    {
     "data": {
      "text/plain": [
       "<function __main__.cubed(s)>"
      ]
     },
     "execution_count": 9,
     "metadata": {},
     "output_type": "execute_result"
    }
   ],
   "source": [
    "spark.udf.register(\"cubed\",cubed, LongType())"
   ]
  },
  {
   "cell_type": "code",
   "execution_count": 10,
   "id": "optional-edition",
   "metadata": {},
   "outputs": [],
   "source": [
    "spark.range(1,9).createOrReplaceTempView(\"udf_test\")"
   ]
  },
  {
   "cell_type": "code",
   "execution_count": 11,
   "id": "speaking-ethnic",
   "metadata": {},
   "outputs": [
    {
     "name": "stdout",
     "output_type": "stream",
     "text": [
      "+---+--------+\n",
      "| id|id_cubed|\n",
      "+---+--------+\n",
      "|  1|       1|\n",
      "|  2|       8|\n",
      "|  3|      27|\n",
      "|  4|      64|\n",
      "|  5|     125|\n",
      "|  6|     216|\n",
      "|  7|     343|\n",
      "|  8|     512|\n",
      "+---+--------+\n",
      "\n"
     ]
    }
   ],
   "source": [
    "spark.sql(\"SELECT id,cubed(id) as id_cubed FROM udf_test\").show()"
   ]
  },
  {
   "cell_type": "markdown",
   "id": "unlikely-midwest",
   "metadata": {},
   "source": [
    "##### Evaluation order and null checking in Spark SQL"
   ]
  },
  {
   "cell_type": "code",
   "execution_count": 21,
   "id": "mechanical-intersection",
   "metadata": {},
   "outputs": [
    {
     "data": {
      "text/plain": [
       "<function __main__.strlen(s)>"
      ]
     },
     "execution_count": 21,
     "metadata": {},
     "output_type": "execute_result"
    }
   ],
   "source": [
    "def strlen(s):\n",
    "    return len(s)\n",
    "\n",
    "# spark.udf.register(\"strlen\", lambda s: len(s), \"int\") #Alternate \n",
    "spark.udf.register(\"strlen\", strlen, IntegerType())"
   ]
  },
  {
   "cell_type": "code",
   "execution_count": 30,
   "id": "universal-number",
   "metadata": {},
   "outputs": [
    {
     "data": {
      "text/plain": [
       "<function __main__.<lambda>(s)>"
      ]
     },
     "execution_count": 30,
     "metadata": {},
     "output_type": "execute_result"
    }
   ],
   "source": [
    "spark.udf.register(\"strlen_nullsafe\", lambda s: len(s) if not s is None else -1, \"int\")\n",
    "# spark.sql(\"select s from test1 where s is not null and strlen_nullsafe(s) > 1\") // ok\n",
    "# spark.sql(\"select s from test1 where if(s is not null, strlen(s), null) > 1\")   // ok"
   ]
  },
  {
   "cell_type": "markdown",
   "id": "specialized-martin",
   "metadata": {},
   "source": [
    "#### Speeding up and distributing PySpark UDFs with Pandas UDFs"
   ]
  },
  {
   "cell_type": "code",
   "execution_count": 32,
   "id": "imperial-singapore",
   "metadata": {},
   "outputs": [],
   "source": [
    "# Pandas udfs over PySpark udfs because, \n",
    "# PySpark udfs required data movement btwn JVM and Python,\n",
    "# which is quite expensive.\n",
    "\n",
    "# To resolve this Pandas UDFs (also known as vectorized UDFs) were introduced\n",
    "# Panda UDFs uses Apache Arrow to transfer data and Pandas to work with data.\n"
   ]
  },
  {
   "cell_type": "code",
   "execution_count": null,
   "id": "engaging-password",
   "metadata": {},
   "outputs": [],
   "source": [
    "# Pandas UDfs were split into two API categories\n",
    "# 1. Pandas UDFs\n",
    "# 2. Pandas Function APIs"
   ]
  },
  {
   "cell_type": "code",
   "execution_count": 40,
   "id": "stock-circular",
   "metadata": {},
   "outputs": [],
   "source": [
    "import pandas as pd\n",
    "from pyspark.sql.functions import col, pandas_udf\n",
    "from pyspark.sql.types import LongType"
   ]
  },
  {
   "cell_type": "code",
   "execution_count": 41,
   "id": "personalized-hearing",
   "metadata": {},
   "outputs": [],
   "source": [
    "def cubed(a:pd.Series) -> pd.Series:\n",
    "    return a * a * a"
   ]
  },
  {
   "cell_type": "code",
   "execution_count": 42,
   "id": "standing-execution",
   "metadata": {},
   "outputs": [],
   "source": [
    "cubed_udf = pandas_udf(cubed, returnType=LongType())"
   ]
  },
  {
   "cell_type": "code",
   "execution_count": null,
   "id": "driven-lover",
   "metadata": {},
   "outputs": [],
   "source": []
  }
 ],
 "metadata": {
  "kernelspec": {
   "display_name": "Python 3",
   "language": "python",
   "name": "python3"
  },
  "language_info": {
   "codemirror_mode": {
    "name": "ipython",
    "version": 3
   },
   "file_extension": ".py",
   "mimetype": "text/x-python",
   "name": "python",
   "nbconvert_exporter": "python",
   "pygments_lexer": "ipython3",
   "version": "3.7.10"
  }
 },
 "nbformat": 4,
 "nbformat_minor": 5
}
