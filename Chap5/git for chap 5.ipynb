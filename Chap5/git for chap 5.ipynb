{
 "cells": [
  {
   "cell_type": "code",
   "execution_count": 5,
   "id": "monthly-morris",
   "metadata": {},
   "outputs": [
    {
     "name": "stdout",
     "output_type": "stream",
     "text": [
      "On branch linuxPiplock\r\n",
      "Your branch is ahead of 'origin/linuxPiplock' by 1 commit.\r\n",
      "  (use \"git push\" to publish your local commits)\r\n",
      "\r\n",
      "Changes to be committed:\r\n",
      "  (use \"git reset HEAD <file>...\" to unstage)\r\n",
      "\r\n",
      "\t\u001b[32mmodified:   ../Chap4/Git Commnads.ipynb\u001b[m\r\n",
      "\t\u001b[32mmodified:   .ipynb_checkpoints/Spark SQL and DataFrames - Interacting with External Data Sources-checkpoint.ipynb\u001b[m\r\n",
      "\t\u001b[32mnew file:   .ipynb_checkpoints/git for chap 5-checkpoint.ipynb\u001b[m\r\n",
      "\t\u001b[32mmodified:   Spark SQL and DataFrames - Interacting with External Data Sources.ipynb\u001b[m\r\n",
      "\t\u001b[32mnew file:   git for chap 5.ipynb\u001b[m\r\n",
      "\r\n",
      "Changes not staged for commit:\r\n",
      "  (use \"git add <file>...\" to update what will be committed)\r\n",
      "  (use \"git checkout -- <file>...\" to discard changes in working directory)\r\n",
      "\r\n",
      "\t\u001b[31mmodified:   ../Chap4/.ipynb_checkpoints/Git Commnads-checkpoint.ipynb\u001b[m\r\n",
      "\t\u001b[31mmodified:   ../Chap4/Git Commnads.ipynb\u001b[m\r\n",
      "\r\n"
     ]
    }
   ],
   "source": [
    "!git status"
   ]
  },
  {
   "cell_type": "code",
   "execution_count": 7,
   "id": "common-coaching",
   "metadata": {},
   "outputs": [],
   "source": [
    "!git add '../Chap4/Git Commnads.ipynb'"
   ]
  },
  {
   "cell_type": "code",
   "execution_count": null,
   "id": "respective-antenna",
   "metadata": {},
   "outputs": [],
   "source": []
  }
 ],
 "metadata": {
  "kernelspec": {
   "display_name": "Python 3",
   "language": "python",
   "name": "python3"
  },
  "language_info": {
   "codemirror_mode": {
    "name": "ipython",
    "version": 3
   },
   "file_extension": ".py",
   "mimetype": "text/x-python",
   "name": "python",
   "nbconvert_exporter": "python",
   "pygments_lexer": "ipython3",
   "version": "3.7.10"
  }
 },
 "nbformat": 4,
 "nbformat_minor": 5
}
