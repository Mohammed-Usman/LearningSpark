{
 "cells": [
  {
   "cell_type": "code",
   "execution_count": 46,
   "id": "presidential-cheat",
   "metadata": {},
   "outputs": [
    {
     "name": "stdout",
     "output_type": "stream",
     "text": [
      "On branch linuxPiplock\r\n",
      "Your branch is ahead of 'origin/linuxPiplock' by 4 commits.\r\n",
      "  (use \"git push\" to publish your local commits)\r\n",
      "\r\n",
      "Changes to be committed:\r\n",
      "  (use \"git reset HEAD <file>...\" to unstage)\r\n",
      "\r\n",
      "\t\u001b[32mmodified:   Git Commnads.ipynb\u001b[m\r\n",
      "\t\u001b[32mmodified:   Spark SQL and DataFrames - Introduction to Built-in Data Sources.ipynb\u001b[m\r\n",
      "\t\u001b[32mnew file:   ../temp/data/csv/df_csv/._SUCCESS.crc\u001b[m\r\n",
      "\t\u001b[32mnew file:   ../temp/data/csv/df_csv/.part-00000-7ccb551b-ab18-4f37-97bf-50d607a0dd28-c000.csv.crc\u001b[m\r\n",
      "\t\u001b[32mnew file:   ../temp/data/csv/df_csv/.part-00001-7ccb551b-ab18-4f37-97bf-50d607a0dd28-c000.csv.crc\u001b[m\r\n",
      "\t\u001b[32mnew file:   ../temp/data/csv/df_csv/.part-00002-7ccb551b-ab18-4f37-97bf-50d607a0dd28-c000.csv.crc\u001b[m\r\n",
      "\t\u001b[32mnew file:   ../temp/data/csv/df_csv/_SUCCESS\u001b[m\r\n",
      "\t\u001b[32mnew file:   ../temp/data/csv/df_csv/part-00000-7ccb551b-ab18-4f37-97bf-50d607a0dd28-c000.csv\u001b[m\r\n",
      "\t\u001b[32mnew file:   ../temp/data/csv/df_csv/part-00001-7ccb551b-ab18-4f37-97bf-50d607a0dd28-c000.csv\u001b[m\r\n",
      "\t\u001b[32mnew file:   ../temp/data/csv/df_csv/part-00002-7ccb551b-ab18-4f37-97bf-50d607a0dd28-c000.csv\u001b[m\r\n",
      "\r\n"
     ]
    }
   ],
   "source": [
    "!git status"
   ]
  },
  {
   "cell_type": "code",
   "execution_count": 41,
   "id": "breeding-editor",
   "metadata": {},
   "outputs": [],
   "source": [
    "#!git log"
   ]
  },
  {
   "cell_type": "code",
   "execution_count": 45,
   "id": "directed-matter",
   "metadata": {},
   "outputs": [],
   "source": [
    "!git add ../temp/data/csv"
   ]
  },
  {
   "cell_type": "code",
   "execution_count": 3,
   "id": "guided-infrastructure",
   "metadata": {},
   "outputs": [
    {
     "name": "stdout",
     "output_type": "stream",
     "text": [
      "  \u001b[31morigin/HEAD\u001b[m -> origin/master\r\n",
      "  \u001b[31morigin/linuxPiplock\u001b[m\r\n",
      "  \u001b[31morigin/main\u001b[m\r\n",
      "  \u001b[31morigin/master\u001b[m\r\n"
     ]
    }
   ],
   "source": [
    "!git branch -r"
   ]
  },
  {
   "cell_type": "code",
   "execution_count": 2,
   "id": "conditional-gothic",
   "metadata": {},
   "outputs": [
    {
     "name": "stdout",
     "output_type": "stream",
     "text": [
      "* \u001b[32mlinuxPiplock\u001b[m\r\n",
      "  master\u001b[m\r\n"
     ]
    }
   ],
   "source": [
    "!git branch"
   ]
  },
  {
   "cell_type": "code",
   "execution_count": 47,
   "id": "duplicate-repeat",
   "metadata": {},
   "outputs": [
    {
     "name": "stdout",
     "output_type": "stream",
     "text": [
      "[linuxPiplock 2264a93] CSV READ/Write\n",
      " 10 files changed, 1729 insertions(+), 27 deletions(-)\n",
      " create mode 100644 temp/data/csv/df_csv/._SUCCESS.crc\n",
      " create mode 100644 temp/data/csv/df_csv/.part-00000-7ccb551b-ab18-4f37-97bf-50d607a0dd28-c000.csv.crc\n",
      " create mode 100644 temp/data/csv/df_csv/.part-00001-7ccb551b-ab18-4f37-97bf-50d607a0dd28-c000.csv.crc\n",
      " create mode 100644 temp/data/csv/df_csv/.part-00002-7ccb551b-ab18-4f37-97bf-50d607a0dd28-c000.csv.crc\n",
      " create mode 100644 temp/data/csv/df_csv/_SUCCESS\n",
      " create mode 100644 temp/data/csv/df_csv/part-00000-7ccb551b-ab18-4f37-97bf-50d607a0dd28-c000.csv\n",
      " create mode 100644 temp/data/csv/df_csv/part-00001-7ccb551b-ab18-4f37-97bf-50d607a0dd28-c000.csv\n",
      " create mode 100644 temp/data/csv/df_csv/part-00002-7ccb551b-ab18-4f37-97bf-50d607a0dd28-c000.csv\n"
     ]
    }
   ],
   "source": [
    "!git commit -a -m \"CSV READ/Write\""
   ]
  },
  {
   "cell_type": "code",
   "execution_count": 18,
   "id": "convertible-mixer",
   "metadata": {},
   "outputs": [
    {
     "name": "stdout",
     "output_type": "stream",
     "text": [
      "/bin/bash: /temp: No such file or directory\r\n"
     ]
    }
   ],
   "source": [
    "!/temp ls"
   ]
  },
  {
   "cell_type": "code",
   "execution_count": 33,
   "id": "comfortable-grace",
   "metadata": {},
   "outputs": [
    {
     "name": "stdout",
     "output_type": "stream",
     "text": [
      "parquet\r\n"
     ]
    }
   ],
   "source": [
    "!ls ../temp/data"
   ]
  },
  {
   "cell_type": "code",
   "execution_count": null,
   "id": "confident-arabic",
   "metadata": {},
   "outputs": [],
   "source": []
  }
 ],
 "metadata": {
  "kernelspec": {
   "display_name": "Python 3",
   "language": "python",
   "name": "python3"
  },
  "language_info": {
   "codemirror_mode": {
    "name": "ipython",
    "version": 3
   },
   "file_extension": ".py",
   "mimetype": "text/x-python",
   "name": "python",
   "nbconvert_exporter": "python",
   "pygments_lexer": "ipython3",
   "version": "3.7.10"
  }
 },
 "nbformat": 4,
 "nbformat_minor": 5
}
