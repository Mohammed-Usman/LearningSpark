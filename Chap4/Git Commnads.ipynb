{
 "cells": [
  {
   "cell_type": "code",
   "execution_count": 1,
   "id": "presidential-cheat",
   "metadata": {},
   "outputs": [
    {
     "name": "stdout",
     "output_type": "stream",
     "text": [
      "On branch linuxPiplock\n",
      "Your branch is up to date with 'origin/linuxPiplock'.\n",
      "\n",
      "Changes not staged for commit:\n",
      "  (use \"git add <file>...\" to update what will be committed)\n",
      "  (use \"git checkout -- <file>...\" to discard changes in working directory)\n",
      "\n",
      "\t\u001b[31mmodified:   ../Pipfile\u001b[m\n",
      "\n",
      "Untracked files:\n",
      "  (use \"git add <file>...\" to include in what will be committed)\n",
      "\n",
      "\t\u001b[31m.ipynb_checkpoints/Git Commnads-checkpoint.ipynb\u001b[m\n",
      "\t\u001b[31mGit Commnads.ipynb\u001b[m\n",
      "\n",
      "no changes added to commit (use \"git add\" and/or \"git commit -a\")\n"
     ]
    }
   ],
   "source": [
    "!git status"
   ]
  },
  {
   "cell_type": "code",
   "execution_count": 2,
   "id": "conditional-gothic",
   "metadata": {},
   "outputs": [
    {
     "name": "stdout",
     "output_type": "stream",
     "text": [
      "* \u001b[32mlinuxPiplock\u001b[m\r\n",
      "  master\u001b[m\r\n"
     ]
    }
   ],
   "source": [
    "!git branch"
   ]
  },
  {
   "cell_type": "code",
   "execution_count": 7,
   "id": "narrative-embassy",
   "metadata": {
    "scrolled": true
   },
   "outputs": [
    {
     "name": "stdout",
     "output_type": "stream",
     "text": [
      "Virtualenv already exists!\n",
      "^C\n",
      "Aborted!\n"
     ]
    }
   ],
   "source": [
    " !pipenv --python /usr/bin/python3.7 lock -r > requirements.txt"
   ]
  },
  {
   "cell_type": "code",
   "execution_count": 13,
   "id": "french-screening",
   "metadata": {},
   "outputs": [
    {
     "name": "stdout",
     "output_type": "stream",
     "text": [
      "Usage: \u001b[39m\u001b[1mpipenv\u001b[39m\u001b[22m [OPTIONS] COMMAND [ARGS]...\n",
      "\n",
      "\u001b[39m\u001b[1mOptions:\u001b[39m\u001b[22m\n",
      "  --where                         Output project home information.\n",
      "  --venv                          Output virtualenv information.\n",
      "  --py                            Output Python interpreter information.\n",
      "  --envs                          Output Environment Variable options.\n",
      "  --rm                            Remove the virtualenv.\n",
      "  --bare                          Minimal output.\n",
      "  --completion                    Output completion (to be executed by the\n",
      "                                \u001b[33m\u001b[1m  shell\u001b[39m\u001b[22m).\n",
      "\n",
      "  --man                           Display manpage.\n",
      "  --support                       Output diagnostic information for use in\n",
      "                                  GitHub issues.\n",
      "\n",
      "  --site-packages / --no-site-packages\n",
      "                                  Enable site-packages for the virtualenv.\n",
      "                                  [env var: PIPENV_SITE_PACKAGES]\n",
      "\n",
      "  --python TEXT                   Specify which version of Python virtualenv\n",
      "                                  should use.\n",
      "\n",
      "  --three / --two                 Use Python 3/2 when creating virtualenv.\n",
      "  --clear                         Clears caches (pipenv, pip, and pip-tools).\n",
      "                                  [env var: PIPENV_CLEAR]\n",
      "\n",
      "  -v, --verbose                   Verbose mode.\n",
      "  --pypi-mirror TEXT              Specify a PyPI mirror.\n",
      "  --version                       Show the version and exit.\n",
      "  -h, --help                      Show this message and exit.\n",
      "\n",
      "\n",
      "Usage Examples:\n",
      "   Create a new project using Python 3.7, specifically:\n",
      "   $ \u001b[33m\u001b[22mpipenv --python 3.7\u001b[39m\u001b[22m\n",
      "\n",
      "   Remove project virtualenv (inferred from current directory):\n",
      "   $ \u001b[33m\u001b[22mpipenv --rm\u001b[39m\u001b[22m\n",
      "\n",
      "   Install all dependencies for a project (including dev):\n",
      "   $ \u001b[33m\u001b[22mpipenv install --dev\u001b[39m\u001b[22m\n",
      "\n",
      "   Create a lockfile containing pre-releases:\n",
      "   $ \u001b[33m\u001b[22mpipenv lock --pre\u001b[39m\u001b[22m\n",
      "\n",
      "   Show a graph of your installed dependencies:\n",
      "   $ \u001b[33m\u001b[22mpipenv graph\u001b[39m\u001b[22m\n",
      "\n",
      "   Check your installed dependencies for security vulnerabilities:\n",
      "   $ \u001b[33m\u001b[22mpipenv check\u001b[39m\u001b[22m\n",
      "\n",
      "   Install a local setup.py into your virtual environment/Pipfile:\n",
      "   $ \u001b[33m\u001b[22mpipenv install -e .\u001b[39m\u001b[22m\n",
      "\n",
      "   Use a lower-level pip command:\n",
      "   $ \u001b[33m\u001b[22mpipenv run pip freeze\u001b[39m\u001b[22m\n",
      "\n",
      "Commands:\n",
      "\u001b[31m\u001b[1m  check\u001b[39m\u001b[22m      Checks for PyUp Safety security vulnerabilities and against PEP\n",
      "             508 markers provided in Pipfile.\n",
      "\n",
      "\u001b[31m\u001b[1m  clean\u001b[39m\u001b[22m      Uninstalls all packages not specified in Pipfile.lock.\n",
      "\u001b[31m\u001b[1m  graph\u001b[39m\u001b[22m      Displays currently-installed dependency graph information.\n",
      "\u001b[35m\u001b[1m  install\u001b[39m\u001b[22m    Installs provided packages and adds them to Pipfile, or (if no\n",
      "             packages are given), installs all packages from Pipfile.\n",
      "\n",
      "\u001b[32m\u001b[1m  lock\u001b[39m\u001b[22m       Generates Pipfile.lock.\n",
      "\u001b[31m\u001b[1m  open\u001b[39m\u001b[22m       View a given module in your editor.\n",
      "\u001b[33m\u001b[1m  run\u001b[39m\u001b[22m        Spawns a command installed into the virtualenv.\n",
      "\u001b[33m\u001b[1m  scripts\u001b[39m\u001b[22m    Lists scripts in current environment config.\n",
      "\u001b[33m\u001b[1m  shell\u001b[39m\u001b[22m      Spawns a shell within the virtualenv.\n",
      "\u001b[32m\u001b[1m  sync\u001b[39m\u001b[22m       Installs all packages specified in Pipfile.lock.\n",
      "\u001b[35m\u001b[1m  uninstall\u001b[39m\u001b[22m  Uninstalls a provided package and removes it from Pipfile.\n",
      "\u001b[32m\u001b[1m  update\u001b[39m\u001b[22m     Runs lock, then sync.\n",
      "\u001b[0m"
     ]
    }
   ],
   "source": [
    "!pipenv"
   ]
  },
  {
   "cell_type": "code",
   "execution_count": null,
   "id": "duplicate-repeat",
   "metadata": {},
   "outputs": [],
   "source": []
  }
 ],
 "metadata": {
  "kernelspec": {
   "display_name": "Python 3",
   "language": "python",
   "name": "python3"
  },
  "language_info": {
   "codemirror_mode": {
    "name": "ipython",
    "version": 3
   },
   "file_extension": ".py",
   "mimetype": "text/x-python",
   "name": "python",
   "nbconvert_exporter": "python",
   "pygments_lexer": "ipython3",
   "version": "3.7.5"
  }
 },
 "nbformat": 4,
 "nbformat_minor": 5
}
