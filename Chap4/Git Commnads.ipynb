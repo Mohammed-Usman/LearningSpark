{
 "cells": [
  {
   "cell_type": "code",
   "execution_count": 4,
   "id": "presidential-cheat",
   "metadata": {},
   "outputs": [
    {
     "name": "stdout",
     "output_type": "stream",
     "text": [
      "On branch linuxPiplock\r\n",
      "Your branch is up to date with 'origin/linuxPiplock'.\r\n",
      "\r\n",
      "Changes not staged for commit:\r\n",
      "  (use \"git add <file>...\" to update what will be committed)\r\n",
      "  (use \"git checkout -- <file>...\" to discard changes in working directory)\r\n",
      "\r\n",
      "\t\u001b[31mmodified:   .ipynb_checkpoints/Git Commnads-checkpoint.ipynb\u001b[m\r\n",
      "\t\u001b[31mmodified:   .ipynb_checkpoints/Spark SQL and DataFrames - Introduction to Built-in Data Sources-checkpoint.ipynb\u001b[m\r\n",
      "\t\u001b[31mmodified:   Git Commnads.ipynb\u001b[m\r\n",
      "\t\u001b[31mmodified:   Spark SQL and DataFrames - Introduction to Built-in Data Sources.ipynb\u001b[m\r\n",
      "\t\u001b[31mmodified:   derby.log\u001b[m\r\n",
      "\t\u001b[31mmodified:   metastore_db/db.lck\u001b[m\r\n",
      "\t\u001b[31mmodified:   metastore_db/log/log.ctrl\u001b[m\r\n",
      "\t\u001b[31mmodified:   metastore_db/log/log1.dat\u001b[m\r\n",
      "\t\u001b[31mmodified:   metastore_db/log/logmirror.ctrl\u001b[m\r\n",
      "\t\u001b[31mmodified:   metastore_db/seg0/c101.dat\u001b[m\r\n",
      "\t\u001b[31mmodified:   metastore_db/seg0/c111.dat\u001b[m\r\n",
      "\t\u001b[31mmodified:   metastore_db/seg0/c121.dat\u001b[m\r\n",
      "\t\u001b[31mmodified:   metastore_db/seg0/c130.dat\u001b[m\r\n",
      "\t\u001b[31mmodified:   metastore_db/seg0/c141.dat\u001b[m\r\n",
      "\t\u001b[31mmodified:   metastore_db/seg0/c150.dat\u001b[m\r\n",
      "\t\u001b[31mmodified:   metastore_db/seg0/c161.dat\u001b[m\r\n",
      "\t\u001b[31mmodified:   metastore_db/seg0/c171.dat\u001b[m\r\n",
      "\t\u001b[31mmodified:   metastore_db/seg0/c180.dat\u001b[m\r\n",
      "\t\u001b[31mmodified:   metastore_db/seg0/c191.dat\u001b[m\r\n",
      "\t\u001b[31mmodified:   metastore_db/seg0/c1a1.dat\u001b[m\r\n",
      "\t\u001b[31mmodified:   metastore_db/seg0/c1b1.dat\u001b[m\r\n",
      "\t\u001b[31mmodified:   metastore_db/seg0/c1e0.dat\u001b[m\r\n",
      "\t\u001b[31mmodified:   metastore_db/seg0/c1f1.dat\u001b[m\r\n",
      "\t\u001b[31mmodified:   metastore_db/seg0/c20.dat\u001b[m\r\n",
      "\t\u001b[31mmodified:   metastore_db/seg0/c200.dat\u001b[m\r\n",
      "\t\u001b[31mmodified:   metastore_db/seg0/c211.dat\u001b[m\r\n",
      "\t\u001b[31mmodified:   metastore_db/seg0/c221.dat\u001b[m\r\n",
      "\t\u001b[31mmodified:   metastore_db/seg0/c230.dat\u001b[m\r\n",
      "\t\u001b[31mmodified:   metastore_db/seg0/c31.dat\u001b[m\r\n",
      "\t\u001b[31mmodified:   metastore_db/seg0/c41.dat\u001b[m\r\n",
      "\t\u001b[31mmodified:   metastore_db/seg0/c490.dat\u001b[m\r\n",
      "\t\u001b[31mmodified:   metastore_db/seg0/c4a1.dat\u001b[m\r\n",
      "\t\u001b[31mmodified:   metastore_db/seg0/c4b0.dat\u001b[m\r\n",
      "\t\u001b[31mmodified:   metastore_db/seg0/c4d1.dat\u001b[m\r\n",
      "\t\u001b[31mmodified:   metastore_db/seg0/c4f0.dat\u001b[m\r\n",
      "\t\u001b[31mmodified:   metastore_db/seg0/c501.dat\u001b[m\r\n",
      "\t\u001b[31mmodified:   metastore_db/seg0/c51.dat\u001b[m\r\n",
      "\t\u001b[31mmodified:   metastore_db/seg0/c510.dat\u001b[m\r\n",
      "\t\u001b[31mmodified:   metastore_db/seg0/c521.dat\u001b[m\r\n",
      "\t\u001b[31mmodified:   metastore_db/seg0/c530.dat\u001b[m\r\n",
      "\t\u001b[31mmodified:   metastore_db/seg0/c541.dat\u001b[m\r\n",
      "\t\u001b[31mmodified:   metastore_db/seg0/c550.dat\u001b[m\r\n",
      "\t\u001b[31mmodified:   metastore_db/seg0/c570.dat\u001b[m\r\n",
      "\t\u001b[31mmodified:   metastore_db/seg0/c581.dat\u001b[m\r\n",
      "\t\u001b[31mmodified:   metastore_db/seg0/c590.dat\u001b[m\r\n",
      "\t\u001b[31mmodified:   metastore_db/seg0/c5b0.dat\u001b[m\r\n",
      "\t\u001b[31mmodified:   metastore_db/seg0/c5d0.dat\u001b[m\r\n",
      "\t\u001b[31mmodified:   metastore_db/seg0/c5f0.dat\u001b[m\r\n",
      "\t\u001b[31mmodified:   metastore_db/seg0/c60.dat\u001b[m\r\n",
      "\t\u001b[31mmodified:   metastore_db/seg0/c610.dat\u001b[m\r\n",
      "\t\u001b[31mmodified:   metastore_db/seg0/c621.dat\u001b[m\r\n",
      "\t\u001b[31mmodified:   metastore_db/seg0/c630.dat\u001b[m\r\n",
      "\t\u001b[31mmodified:   metastore_db/seg0/c641.dat\u001b[m\r\n",
      "\t\u001b[31mmodified:   metastore_db/seg0/c650.dat\u001b[m\r\n",
      "\t\u001b[31mmodified:   metastore_db/seg0/c670.dat\u001b[m\r\n",
      "\t\u001b[31mmodified:   metastore_db/seg0/c690.dat\u001b[m\r\n",
      "\t\u001b[31mmodified:   metastore_db/seg0/c6b0.dat\u001b[m\r\n",
      "\t\u001b[31mmodified:   metastore_db/seg0/c6d0.dat\u001b[m\r\n",
      "\t\u001b[31mmodified:   metastore_db/seg0/c6f0.dat\u001b[m\r\n",
      "\t\u001b[31mmodified:   metastore_db/seg0/c701.dat\u001b[m\r\n",
      "\t\u001b[31mmodified:   metastore_db/seg0/c71.dat\u001b[m\r\n",
      "\t\u001b[31mmodified:   metastore_db/seg0/c711.dat\u001b[m\r\n",
      "\t\u001b[31mmodified:   metastore_db/seg0/c721.dat\u001b[m\r\n",
      "\t\u001b[31mmodified:   metastore_db/seg0/c731.dat\u001b[m\r\n",
      "\t\u001b[31mmodified:   metastore_db/seg0/c741.dat\u001b[m\r\n",
      "\t\u001b[31mmodified:   metastore_db/seg0/c751.dat\u001b[m\r\n",
      "\t\u001b[31mmodified:   metastore_db/seg0/c7b1.dat\u001b[m\r\n",
      "\t\u001b[31mmodified:   metastore_db/seg0/c7c1.dat\u001b[m\r\n",
      "\t\u001b[31mmodified:   metastore_db/seg0/c81.dat\u001b[m\r\n",
      "\t\u001b[31mmodified:   metastore_db/seg0/c831.dat\u001b[m\r\n",
      "\t\u001b[31mmodified:   metastore_db/seg0/c840.dat\u001b[m\r\n",
      "\t\u001b[31mmodified:   metastore_db/seg0/c860.dat\u001b[m\r\n",
      "\t\u001b[31mmodified:   metastore_db/seg0/c880.dat\u001b[m\r\n",
      "\t\u001b[31mmodified:   metastore_db/seg0/c8a0.dat\u001b[m\r\n",
      "\t\u001b[31mmodified:   metastore_db/seg0/c90.dat\u001b[m\r\n",
      "\t\u001b[31mmodified:   metastore_db/seg0/c920.dat\u001b[m\r\n",
      "\t\u001b[31mmodified:   metastore_db/seg0/c980.dat\u001b[m\r\n",
      "\t\u001b[31mmodified:   metastore_db/seg0/c9a0.dat\u001b[m\r\n",
      "\t\u001b[31mmodified:   metastore_db/seg0/c9b1.dat\u001b[m\r\n",
      "\t\u001b[31mmodified:   metastore_db/seg0/c9c0.dat\u001b[m\r\n",
      "\t\u001b[31mmodified:   metastore_db/seg0/c9d1.dat\u001b[m\r\n",
      "\t\u001b[31mmodified:   metastore_db/seg0/c9e1.dat\u001b[m\r\n",
      "\t\u001b[31mmodified:   metastore_db/seg0/c9f0.dat\u001b[m\r\n",
      "\t\u001b[31mmodified:   metastore_db/seg0/ca01.dat\u001b[m\r\n",
      "\t\u001b[31mmodified:   metastore_db/seg0/ca1.dat\u001b[m\r\n",
      "\t\u001b[31mmodified:   metastore_db/seg0/ca11.dat\u001b[m\r\n",
      "\t\u001b[31mmodified:   metastore_db/seg0/ca20.dat\u001b[m\r\n",
      "\t\u001b[31mmodified:   metastore_db/seg0/ca40.dat\u001b[m\r\n",
      "\t\u001b[31mmodified:   metastore_db/seg0/ca90.dat\u001b[m\r\n",
      "\t\u001b[31mmodified:   metastore_db/seg0/caa1.dat\u001b[m\r\n",
      "\t\u001b[31mmodified:   metastore_db/seg0/cab1.dat\u001b[m\r\n",
      "\t\u001b[31mmodified:   metastore_db/seg0/cac1.dat\u001b[m\r\n",
      "\t\u001b[31mmodified:   metastore_db/seg0/cad0.dat\u001b[m\r\n",
      "\t\u001b[31mmodified:   metastore_db/seg0/cb1.dat\u001b[m\r\n",
      "\t\u001b[31mmodified:   metastore_db/seg0/cb10.dat\u001b[m\r\n",
      "\t\u001b[31mmodified:   metastore_db/seg0/cb30.dat\u001b[m\r\n",
      "\t\u001b[31mmodified:   metastore_db/seg0/cba0.dat\u001b[m\r\n",
      "\t\u001b[31mmodified:   metastore_db/seg0/cbe0.dat\u001b[m\r\n",
      "\t\u001b[31mmodified:   metastore_db/seg0/cc20.dat\u001b[m\r\n",
      "\t\u001b[31mmodified:   metastore_db/seg0/cf0.dat\u001b[m\r\n",
      "\r\n",
      "no changes added to commit (use \"git add\" and/or \"git commit -a\")\r\n"
     ]
    }
   ],
   "source": [
    "!git status"
   ]
  },
  {
   "cell_type": "code",
   "execution_count": 5,
   "id": "conditional-gothic",
   "metadata": {},
   "outputs": [
    {
     "name": "stdout",
     "output_type": "stream",
     "text": [
      "* \u001b[32mlinuxPiplock\u001b[m\r\n",
      "  master\u001b[m\r\n"
     ]
    }
   ],
   "source": [
    "!git branch"
   ]
  },
  {
   "cell_type": "code",
   "execution_count": null,
   "id": "duplicate-repeat",
   "metadata": {},
   "outputs": [],
   "source": [
    "!git commit -a -m \"ta\""
   ]
  }
 ],
 "metadata": {
  "kernelspec": {
   "display_name": "Python 3",
   "language": "python",
   "name": "python3"
  },
  "language_info": {
   "codemirror_mode": {
    "name": "ipython",
    "version": 3
   },
   "file_extension": ".py",
   "mimetype": "text/x-python",
   "name": "python",
   "nbconvert_exporter": "python",
   "pygments_lexer": "ipython3",
   "version": "3.7.5"
  }
 },
 "nbformat": 4,
 "nbformat_minor": 5
}
