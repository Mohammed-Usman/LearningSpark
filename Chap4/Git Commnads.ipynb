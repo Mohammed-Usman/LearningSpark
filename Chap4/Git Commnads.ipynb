{
 "cells": [
  {
   "cell_type": "code",
   "execution_count": 39,
   "id": "presidential-cheat",
   "metadata": {},
   "outputs": [
    {
     "name": "stdout",
     "output_type": "stream",
     "text": [
      "On branch linuxPiplock\r\n",
      "Your branch is ahead of 'origin/linuxPiplock' by 4 commits.\r\n",
      "  (use \"git push\" to publish your local commits)\r\n",
      "\r\n",
      "nothing to commit, working tree clean\r\n"
     ]
    }
   ],
   "source": [
    "!git status"
   ]
  },
  {
   "cell_type": "code",
   "execution_count": 35,
   "id": "documented-antigua",
   "metadata": {},
   "outputs": [],
   "source": [
    "#!git log"
   ]
  },
  {
   "cell_type": "code",
   "execution_count": 36,
   "id": "directed-matter",
   "metadata": {},
   "outputs": [],
   "source": [
    "!git add ."
   ]
  },
  {
   "cell_type": "code",
   "execution_count": 3,
   "id": "guided-infrastructure",
   "metadata": {},
   "outputs": [
    {
     "name": "stdout",
     "output_type": "stream",
     "text": [
      "  \u001b[31morigin/HEAD\u001b[m -> origin/master\r\n",
      "  \u001b[31morigin/linuxPiplock\u001b[m\r\n",
      "  \u001b[31morigin/main\u001b[m\r\n",
      "  \u001b[31morigin/master\u001b[m\r\n"
     ]
    }
   ],
   "source": [
    "!git branch -r"
   ]
  },
  {
   "cell_type": "code",
   "execution_count": 2,
   "id": "conditional-gothic",
   "metadata": {},
   "outputs": [
    {
     "name": "stdout",
     "output_type": "stream",
     "text": [
      "* \u001b[32mlinuxPiplock\u001b[m\r\n",
      "  master\u001b[m\r\n"
     ]
    }
   ],
   "source": [
    "!git branch"
   ]
  },
  {
   "cell_type": "code",
   "execution_count": 38,
   "id": "duplicate-repeat",
   "metadata": {},
   "outputs": [
    {
     "name": "stdout",
     "output_type": "stream",
     "text": [
      "[linuxPiplock 09e8d2c] JSON Write\n",
      " 2 files changed, 242 insertions(+), 416 deletions(-)\n",
      " rewrite Chap4/Git Commnads.ipynb (85%)\n"
     ]
    }
   ],
   "source": [
    "!git commit -a -m \"JSON Write\""
   ]
  },
  {
   "cell_type": "code",
   "execution_count": 18,
   "id": "convertible-mixer",
   "metadata": {},
   "outputs": [
    {
     "name": "stdout",
     "output_type": "stream",
     "text": [
      "/bin/bash: /temp: No such file or directory\r\n"
     ]
    }
   ],
   "source": [
    "!/temp ls"
   ]
  },
  {
   "cell_type": "code",
   "execution_count": 33,
   "id": "hairy-landscape",
   "metadata": {},
   "outputs": [
    {
     "name": "stdout",
     "output_type": "stream",
     "text": [
      "parquet\r\n"
     ]
    }
   ],
   "source": [
    "!ls ../temp/data"
   ]
  },
  {
   "cell_type": "code",
   "execution_count": null,
   "id": "extended-transcript",
   "metadata": {},
   "outputs": [],
   "source": []
  }
 ],
 "metadata": {
  "kernelspec": {
   "display_name": "Python 3",
   "language": "python",
   "name": "python3"
  },
  "language_info": {
   "codemirror_mode": {
    "name": "ipython",
    "version": 3
   },
   "file_extension": ".py",
   "mimetype": "text/x-python",
   "name": "python",
   "nbconvert_exporter": "python",
   "pygments_lexer": "ipython3",
   "version": "3.7.10"
  }
 },
 "nbformat": 4,
 "nbformat_minor": 5
}
