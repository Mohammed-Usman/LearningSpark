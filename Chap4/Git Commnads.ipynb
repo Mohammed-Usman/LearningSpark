{
 "cells": [
  {
   "cell_type": "code",
   "execution_count": 64,
   "id": "presidential-cheat",
   "metadata": {},
   "outputs": [
    {
     "name": "stdout",
     "output_type": "stream",
     "text": [
      "On branch linuxPiplock\r\n",
      "Your branch is ahead of 'origin/linuxPiplock' by 6 commits.\r\n",
      "  (use \"git push\" to publish your local commits)\r\n",
      "\r\n",
      "Changes to be committed:\r\n",
      "  (use \"git reset HEAD <file>...\" to unstage)\r\n",
      "\r\n",
      "\t\u001b[32mmodified:   .ipynb_checkpoints/Spark SQL and DataFrames - Introduction to Built-in Data Sources-checkpoint.ipynb\u001b[m\r\n",
      "\t\u001b[32mmodified:   Git Commnads.ipynb\u001b[m\r\n",
      "\t\u001b[32mmodified:   Spark SQL and DataFrames - Introduction to Built-in Data Sources.ipynb\u001b[m\r\n",
      "\t\u001b[32mmodified:   requirements.txt\u001b[m\r\n",
      "\r\n"
     ]
    }
   ],
   "source": [
    "!git status"
   ]
  },
  {
   "cell_type": "code",
   "execution_count": 53,
   "id": "lesser-antenna",
   "metadata": {},
   "outputs": [],
   "source": [
    "#!git log"
   ]
  },
  {
   "cell_type": "code",
   "execution_count": 63,
   "id": "directed-matter",
   "metadata": {},
   "outputs": [],
   "source": [
    "!git add ."
   ]
  },
  {
   "cell_type": "code",
   "execution_count": 55,
   "id": "guided-infrastructure",
   "metadata": {},
   "outputs": [
    {
     "name": "stdout",
     "output_type": "stream",
     "text": [
      "  \u001b[31morigin/HEAD\u001b[m -> origin/master\r\n",
      "  \u001b[31morigin/linuxPiplock\u001b[m\r\n",
      "  \u001b[31morigin/main\u001b[m\r\n",
      "  \u001b[31morigin/master\u001b[m\r\n"
     ]
    }
   ],
   "source": [
    "!git branch -r"
   ]
  },
  {
   "cell_type": "code",
   "execution_count": 56,
   "id": "conditional-gothic",
   "metadata": {},
   "outputs": [
    {
     "name": "stdout",
     "output_type": "stream",
     "text": [
      "* \u001b[32mlinuxPiplock\u001b[m\r\n",
      "  master\u001b[m\r\n"
     ]
    }
   ],
   "source": [
    "!git branch"
   ]
  },
  {
   "cell_type": "code",
   "execution_count": 65,
   "id": "duplicate-repeat",
   "metadata": {},
   "outputs": [
    {
     "name": "stdout",
     "output_type": "stream",
     "text": [
      "[linuxPiplock aa6d919] Binary File Read\r\n",
      " 4 files changed, 1217 insertions(+), 84 deletions(-)\r\n",
      " rewrite Chap4/requirements.txt (100%)\r\n"
     ]
    }
   ],
   "source": [
    "!git commit -a -m \"Binary File Read\""
   ]
  },
  {
   "cell_type": "code",
   "execution_count": 18,
   "id": "convertible-mixer",
   "metadata": {},
   "outputs": [
    {
     "name": "stdout",
     "output_type": "stream",
     "text": [
      "/bin/bash: /temp: No such file or directory\r\n"
     ]
    }
   ],
   "source": [
    "!/temp ls"
   ]
  },
  {
   "cell_type": "code",
   "execution_count": 33,
   "id": "unsigned-association",
   "metadata": {},
   "outputs": [
    {
     "name": "stdout",
     "output_type": "stream",
     "text": [
      "parquet\r\n"
     ]
    }
   ],
   "source": [
    "!ls ../temp/data"
   ]
  },
  {
   "cell_type": "code",
   "execution_count": 59,
   "id": "thick-latino",
   "metadata": {},
   "outputs": [],
   "source": [
    "!pip freeze > requirements.txt"
   ]
  },
  {
   "cell_type": "code",
   "execution_count": 61,
   "id": "catholic-journalism",
   "metadata": {},
   "outputs": [
    {
     "name": "stdout",
     "output_type": "stream",
     "text": [
      "\u001b[39m\u001b[22mLocking\u001b[39m\u001b[22m \u001b[33m\u001b[22m[dev-packages]\u001b[39m\u001b[22m \u001b[39m\u001b[22mdependencies...\u001b[39m\u001b[22m\n",
      "\u001b[39m\u001b[22mLocking\u001b[39m\u001b[22m \u001b[33m\u001b[22m[packages]\u001b[39m\u001b[22m \u001b[39m\u001b[22mdependencies...\u001b[39m\u001b[22m\n",
      "\u001b[KBuilding requirements...\n",
      "\u001b[KResolving dependencies...\n",
      "\u001b[K\u001b[?25h\u001b[31m\u001b[22m✘ Locking Failed!\u001b[39m\u001b[22m\u001b[0m \n",
      "\n",
      "\n",
      "\u001b[0m"
     ]
    }
   ],
   "source": [
    "!pipenv lock"
   ]
  },
  {
   "cell_type": "code",
   "execution_count": null,
   "id": "indie-doctor",
   "metadata": {},
   "outputs": [],
   "source": []
  }
 ],
 "metadata": {
  "kernelspec": {
   "display_name": "Python 3",
   "language": "python",
   "name": "python3"
  },
  "language_info": {
   "codemirror_mode": {
    "name": "ipython",
    "version": 3
   },
   "file_extension": ".py",
   "mimetype": "text/x-python",
   "name": "python",
   "nbconvert_exporter": "python",
   "pygments_lexer": "ipython3",
   "version": "3.7.10"
  }
 },
 "nbformat": 4,
 "nbformat_minor": 5
}
