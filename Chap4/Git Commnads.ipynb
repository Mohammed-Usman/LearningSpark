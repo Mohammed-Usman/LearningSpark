{
 "cells": [
  {
   "cell_type": "code",
   "execution_count": 58,
   "id": "presidential-cheat",
   "metadata": {},
   "outputs": [
    {
     "name": "stdout",
     "output_type": "stream",
     "text": [
      "On branch linuxPiplock\r\n",
      "Your branch is ahead of 'origin/linuxPiplock' by 6 commits.\r\n",
      "  (use \"git push\" to publish your local commits)\r\n",
      "\r\n",
      "nothing to commit, working tree clean\r\n"
     ]
    }
   ],
   "source": [
    "!git status"
   ]
  },
  {
   "cell_type": "code",
   "execution_count": 53,
   "id": "every-roommate",
   "metadata": {},
   "outputs": [],
   "source": [
    "#!git log"
   ]
  },
  {
   "cell_type": "code",
   "execution_count": 54,
   "id": "directed-matter",
   "metadata": {},
   "outputs": [],
   "source": [
    "!git add ."
   ]
  },
  {
   "cell_type": "code",
   "execution_count": 55,
   "id": "guided-infrastructure",
   "metadata": {},
   "outputs": [
    {
     "name": "stdout",
     "output_type": "stream",
     "text": [
      "  \u001b[31morigin/HEAD\u001b[m -> origin/master\r\n",
      "  \u001b[31morigin/linuxPiplock\u001b[m\r\n",
      "  \u001b[31morigin/main\u001b[m\r\n",
      "  \u001b[31morigin/master\u001b[m\r\n"
     ]
    }
   ],
   "source": [
    "!git branch -r"
   ]
  },
  {
   "cell_type": "code",
   "execution_count": 56,
   "id": "conditional-gothic",
   "metadata": {},
   "outputs": [
    {
     "name": "stdout",
     "output_type": "stream",
     "text": [
      "* \u001b[32mlinuxPiplock\u001b[m\r\n",
      "  master\u001b[m\r\n"
     ]
    }
   ],
   "source": [
    "!git branch"
   ]
  },
  {
   "cell_type": "code",
   "execution_count": 57,
   "id": "duplicate-repeat",
   "metadata": {},
   "outputs": [
    {
     "name": "stdout",
     "output_type": "stream",
     "text": [
      "[linuxPiplock 1273e82] Avro,ORC READ/Write\r\n",
      " 6 files changed, 327 insertions(+), 34 deletions(-)\r\n",
      " create mode 100644 temp/data/orc/flights_orc/._SUCCESS.crc\r\n",
      " create mode 100644 temp/data/orc/flights_orc/.part-00000-a976e422-7564-4fe4-b566-8b41caf53b15-c000.snappy.orc.crc\r\n",
      " create mode 100644 temp/data/orc/flights_orc/_SUCCESS\r\n",
      " create mode 100644 temp/data/orc/flights_orc/part-00000-a976e422-7564-4fe4-b566-8b41caf53b15-c000.snappy.orc\r\n"
     ]
    }
   ],
   "source": [
    "!git commit -a -m \"Avro,ORC READ/Write\""
   ]
  },
  {
   "cell_type": "code",
   "execution_count": 18,
   "id": "convertible-mixer",
   "metadata": {},
   "outputs": [
    {
     "name": "stdout",
     "output_type": "stream",
     "text": [
      "/bin/bash: /temp: No such file or directory\r\n"
     ]
    }
   ],
   "source": [
    "!/temp ls"
   ]
  },
  {
   "cell_type": "code",
   "execution_count": 33,
   "id": "unexpected-watershed",
   "metadata": {},
   "outputs": [
    {
     "name": "stdout",
     "output_type": "stream",
     "text": [
      "parquet\r\n"
     ]
    }
   ],
   "source": [
    "!ls ../temp/data"
   ]
  },
  {
   "cell_type": "code",
   "execution_count": 59,
   "id": "hungry-pulse",
   "metadata": {},
   "outputs": [],
   "source": [
    "!pip freeze > requirements.txt"
   ]
  },
  {
   "cell_type": "code",
   "execution_count": 61,
   "id": "dated-above",
   "metadata": {},
   "outputs": [
    {
     "name": "stdout",
     "output_type": "stream",
     "text": [
      "\u001b[39m\u001b[22mLocking\u001b[39m\u001b[22m \u001b[33m\u001b[22m[dev-packages]\u001b[39m\u001b[22m \u001b[39m\u001b[22mdependencies...\u001b[39m\u001b[22m\n",
      "\u001b[39m\u001b[22mLocking\u001b[39m\u001b[22m \u001b[33m\u001b[22m[packages]\u001b[39m\u001b[22m \u001b[39m\u001b[22mdependencies...\u001b[39m\u001b[22m\n",
      "\u001b[KBuilding requirements...\n",
      "\u001b[KResolving dependencies...\n",
      "\u001b[K\u001b[?25h\u001b[31m\u001b[22m✘ Locking Failed!\u001b[39m\u001b[22m\u001b[0m \n",
      "\n",
      "\n",
      "\u001b[0m"
     ]
    }
   ],
   "source": [
    "!pipenv lock"
   ]
  },
  {
   "cell_type": "code",
   "execution_count": null,
   "id": "structural-renaissance",
   "metadata": {},
   "outputs": [],
   "source": []
  }
 ],
 "metadata": {
  "kernelspec": {
   "display_name": "Python 3",
   "language": "python",
   "name": "python3"
  },
  "language_info": {
   "codemirror_mode": {
    "name": "ipython",
    "version": 3
   },
   "file_extension": ".py",
   "mimetype": "text/x-python",
   "name": "python",
   "nbconvert_exporter": "python",
   "pygments_lexer": "ipython3",
   "version": "3.7.10"
  }
 },
 "nbformat": 4,
 "nbformat_minor": 5
}
