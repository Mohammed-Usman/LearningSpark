{
 "cells": [
  {
   "cell_type": "code",
   "execution_count": 47,
   "id": "presidential-cheat",
   "metadata": {},
   "outputs": [
    {
     "name": "stdout",
     "output_type": "stream",
     "text": [
      "On branch linuxPiplock\n",
      "Your branch is ahead of 'origin/linuxPiplock' by 5 commits.\n",
      "  (use \"git push\" to publish your local commits)\n",
      "\n",
      "Changes not staged for commit:\n",
      "  (use \"git add <file>...\" to update what will be committed)\n",
      "  (use \"git checkout -- <file>...\" to discard changes in working directory)\n",
      "\n",
      "\t\u001b[31mmodified:   .ipynb_checkpoints/Git Commnads-checkpoint.ipynb\u001b[m\n",
      "\t\u001b[31mmodified:   Git Commnads.ipynb\u001b[m\n",
      "\t\u001b[31mmodified:   Spark SQL and DataFrames - Introduction to Built-in Data Sources.ipynb\u001b[m\n",
      "\n",
      "no changes added to commit (use \"git add\" and/or \"git commit -a\")\n"
     ]
    }
   ],
   "source": [
    "!git status"
   ]
  },
  {
   "cell_type": "code",
   "execution_count": 48,
   "id": "exclusive-composer",
   "metadata": {},
   "outputs": [],
   "source": [
    "!git add ."
   ]
  },
  {
   "cell_type": "code",
   "execution_count": 49,
   "id": "subtle-vienna",
   "metadata": {},
   "outputs": [
    {
     "name": "stdout",
     "output_type": "stream",
     "text": [
      "  \u001b[31morigin/HEAD\u001b[m -> origin/master\r\n",
      "  \u001b[31morigin/linuxPiplock\u001b[m\r\n",
      "  \u001b[31morigin/main\u001b[m\r\n",
      "  \u001b[31morigin/master\u001b[m\r\n"
     ]
    }
   ],
   "source": [
    "!git branch -r"
   ]
  },
  {
   "cell_type": "code",
   "execution_count": 50,
   "id": "conditional-gothic",
   "metadata": {},
   "outputs": [
    {
     "name": "stdout",
     "output_type": "stream",
     "text": [
      "* \u001b[32mlinuxPiplock\u001b[m\r\n",
      "  master\u001b[m\r\n"
     ]
    }
   ],
   "source": [
    "!git branch"
   ]
  },
  {
   "cell_type": "code",
   "execution_count": 40,
   "id": "duplicate-repeat",
   "metadata": {},
   "outputs": [
    {
     "name": "stdout",
     "output_type": "stream",
     "text": [
      "[linuxPiplock 1ede3d0] Recreated Accidently deleted Db,tbl\r\n",
      " 4 files changed, 103 insertions(+), 69 deletions(-)\r\n"
     ]
    }
   ],
   "source": [
    "!git commit -a -m \"Global and Temp view\""
   ]
  },
  {
   "cell_type": "code",
   "execution_count": null,
   "id": "circular-discovery",
   "metadata": {},
   "outputs": [],
   "source": []
  }
 ],
 "metadata": {
  "kernelspec": {
   "display_name": "Python 3",
   "language": "python",
   "name": "python3"
  },
  "language_info": {
   "codemirror_mode": {
    "name": "ipython",
    "version": 3
   },
   "file_extension": ".py",
   "mimetype": "text/x-python",
   "name": "python",
   "nbconvert_exporter": "python",
   "pygments_lexer": "ipython3",
   "version": "3.7.5"
  }
 },
 "nbformat": 4,
 "nbformat_minor": 5
}
