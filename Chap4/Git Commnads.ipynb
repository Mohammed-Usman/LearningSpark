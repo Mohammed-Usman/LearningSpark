{
 "cells": [
  {
   "cell_type": "code",
   "execution_count": 22,
   "id": "presidential-cheat",
   "metadata": {},
   "outputs": [
    {
     "name": "stdout",
     "output_type": "stream",
     "text": [
      "On branch linuxPiplock\r\n",
      "Your branch is ahead of 'origin/linuxPiplock' by 1 commit.\r\n",
      "  (use \"git push\" to publish your local commits)\r\n",
      "\r\n",
      "Changes to be committed:\r\n",
      "  (use \"git reset HEAD <file>...\" to unstage)\r\n",
      "\r\n",
      "\t\u001b[32mmodified:   Git Commnads.ipynb\u001b[m\r\n",
      "\r\n",
      "Changes not staged for commit:\r\n",
      "  (use \"git add <file>...\" to update what will be committed)\r\n",
      "  (use \"git checkout -- <file>...\" to discard changes in working directory)\r\n",
      "\r\n",
      "\t\u001b[31mmodified:   ../Chap5/.ipynb_checkpoints/Spark SQL and DataFrames - Interacting with External Data Sources-checkpoint.ipynb\u001b[m\r\n",
      "\t\u001b[31mmodified:   ../Chap5/Spark SQL and DataFrames - Interacting with External Data Sources.ipynb\u001b[m\r\n",
      "\r\n"
     ]
    }
   ],
   "source": [
    "!git status"
   ]
  },
  {
   "cell_type": "code",
   "execution_count": 88,
   "id": "brown-strap",
   "metadata": {},
   "outputs": [],
   "source": [
    "#!git log"
   ]
  },
  {
   "cell_type": "code",
   "execution_count": 155,
   "id": "subjective-roads",
   "metadata": {},
   "outputs": [],
   "source": [
    "!git add \"../Chap5/.ipynb_checkpoints/Spark SQL and DataFrames - Interacting with External Data Sources-checkpoint.ipynb\"\n",
    "!git add \"../Chap5/Spark SQL and DataFrames - Interacting with External Data Sources.ipynb\"\n"
   ]
  },
  {
   "cell_type": "code",
   "execution_count": 21,
   "id": "pacific-today",
   "metadata": {},
   "outputs": [],
   "source": [
    "!git add *"
   ]
  },
  {
   "cell_type": "code",
   "execution_count": 89,
   "id": "close-xerox",
   "metadata": {},
   "outputs": [
    {
     "name": "stdout",
     "output_type": "stream",
     "text": [
      "'Spark SQL and DataFrames - Interacting with External Data Sources.ipynb'\r\n"
     ]
    }
   ],
   "source": [
    "!ls ../Chap5"
   ]
  },
  {
   "cell_type": "code",
   "execution_count": 142,
   "id": "directed-matter",
   "metadata": {},
   "outputs": [],
   "source": [
    "!git add ."
   ]
  },
  {
   "cell_type": "code",
   "execution_count": 55,
   "id": "guided-infrastructure",
   "metadata": {},
   "outputs": [
    {
     "name": "stdout",
     "output_type": "stream",
     "text": [
      "  \u001b[31morigin/HEAD\u001b[m -> origin/master\r\n",
      "  \u001b[31morigin/linuxPiplock\u001b[m\r\n",
      "  \u001b[31morigin/main\u001b[m\r\n",
      "  \u001b[31morigin/master\u001b[m\r\n"
     ]
    }
   ],
   "source": [
    "!git branch -r"
   ]
  },
  {
   "cell_type": "code",
   "execution_count": 56,
   "id": "conditional-gothic",
   "metadata": {},
   "outputs": [
    {
     "name": "stdout",
     "output_type": "stream",
     "text": [
      "* \u001b[32mlinuxPiplock\u001b[m\r\n",
      "  master\u001b[m\r\n"
     ]
    }
   ],
   "source": [
    "!git branch"
   ]
  },
  {
   "cell_type": "code",
   "execution_count": 17,
   "id": "duplicate-repeat",
   "metadata": {},
   "outputs": [
    {
     "name": "stdout",
     "output_type": "stream",
     "text": [
      "[linuxPiplock c281385] Higher-Order Functions -> transform\r\n",
      " 74 files changed, 261 insertions(+), 34 deletions(-)\r\n",
      " copy Chap5/metastore_db/seg0/{cf0.dat => c171.dat} (77%)\r\n",
      " rewrite Chap5/metastore_db/seg0/cf0.dat (68%)\r\n"
     ]
    }
   ],
   "source": [
    "!git commit -a -m \"Higher-Order Functions -> transform\""
   ]
  },
  {
   "cell_type": "code",
   "execution_count": 18,
   "id": "convertible-mixer",
   "metadata": {},
   "outputs": [
    {
     "name": "stdout",
     "output_type": "stream",
     "text": [
      "/bin/bash: /temp: No such file or directory\r\n"
     ]
    }
   ],
   "source": [
    "!/temp ls"
   ]
  },
  {
   "cell_type": "code",
   "execution_count": 33,
   "id": "entitled-personal",
   "metadata": {},
   "outputs": [
    {
     "name": "stdout",
     "output_type": "stream",
     "text": [
      "parquet\r\n"
     ]
    }
   ],
   "source": [
    "!ls ../temp/data"
   ]
  },
  {
   "cell_type": "code",
   "execution_count": 102,
   "id": "occasional-soccer",
   "metadata": {},
   "outputs": [],
   "source": [
    "!pip freeze > requirements.txt"
   ]
  },
  {
   "cell_type": "code",
   "execution_count": 163,
   "id": "accepted-scout",
   "metadata": {},
   "outputs": [
    {
     "name": "stdout",
     "output_type": "stream",
     "text": [
      "\u001b[33mcommit 9b98b84eb7cc3092dd584bac8ba02d4e66a03ea3\u001b[m\u001b[33m (\u001b[m\u001b[1;36mHEAD -> \u001b[m\u001b[1;32mlinuxPiplock\u001b[m\u001b[33m)\u001b[m\n",
      "Author: usman <tmusman5@gmail.com>\n",
      "Date:   Thu Mar 18 05:06:14 2021 -0700\n",
      "\n",
      "    Spark With JDBC pg#131\n",
      "\n",
      "\u001b[33mcommit b6ef5e7851540e574522f5478e1dbdd97b379854\u001b[m\u001b[33m (\u001b[m\u001b[1;31morigin/linuxPiplock\u001b[m\u001b[33m)\u001b[m\n",
      "Author: usman <tmusman5@gmail.com>\n",
      "Date:   Wed Mar 17 04:12:35 2021 -0700\n",
      "\n",
      "    Commads file saved\n",
      "\n",
      "\u001b[33mcommit 88abbd4fb5b75ddb631903cace7bd3b214cfef4e\u001b[m\n",
      "Author: usman <tmusman5@gmail.com>\n",
      "Date:   Wed Mar 17 04:10:26 2021 -0700\n",
      "\n",
      "    Pandas UDfs Not working on show commmand\n",
      "\n",
      "\u001b[33mcommit f9b1bb90cf147b8576585627cf6fe1456307acde\u001b[m\n",
      "Author: usman <tmusman5@gmail.com>\n",
      "Date:   Wed Mar 17 02:58:55 2021 -0700\n",
      "\n",
      "    Pandas UDfs\n",
      "\n",
      "\u001b[33mcommit bbf3f8a432ffcee0a15cb815fb3bb36e6b3a59a9\u001b[m\n",
      "Author: usman <tmusman5@gmail.com>\n",
      "Date:   Wed Mar 17 02:58:41 2021 -0700\n",
      "\n",
      "    Pandas UDfs\n",
      "\n",
      "\u001b[33mcommit 92cb30980e623b87fe14f760b31b150307226a5f\u001b[m\n",
      "Author: usman <tmusman5@gmail.com>\n",
      "Date:   Wed Mar 17 00:15:13 2021 -0700\n",
      "\n",
      "    Chap 5 Started\n",
      "\n",
      "\u001b[33mcommit 389aca753bc02d6258d938d82b2d59c0c3e16f42\u001b[m\n",
      "Author: usman <tmusman5@gmail.com>\n",
      "Date:   Wed Mar 17 00:07:00 2021 -0700\n",
      "\n",
      "    Chap 4 Complete\n",
      "\n",
      "\u001b[33mcommit aa6d919f983eebf6655a33deebd123d142a8e275\u001b[m\n",
      "Author: usman <tmusman5@gmail.com>\n",
      "Date:   Wed Mar 17 00:06:39 2021 -0700\n",
      "\n",
      "    Binary File Read\n",
      "\n",
      "\u001b[33mcommit 1273e825f8f1a5340871bdc4406a47c176c258c3\u001b[m\n",
      "Author: usman <tmusman5@gmail.com>\n",
      "Date:   Tue Mar 16 23:29:45 2021 -0700\n",
      "\n",
      "    Avro,ORC READ/Write\n",
      "\n",
      "\u001b[33mcommit 2264a930dda8cbb8d5247083ff905b7cb6e92867\u001b[m\n",
      "Author: usman <tmusman5@gmail.com>\n",
      "Date:   Tue Mar 16 22:44:34 2021 -0700\n",
      "\n",
      "    CSV READ/Write\n",
      "\n",
      "\u001b[33mcommit 09e8d2c9b4b4eecc49d5f5b9a0862da06451d8b5\u001b[m\n",
      "Author: usman <tmusman5@gmail.com>\n",
      "Date:   Tue Mar 16 22:23:20 2021 -0700\n",
      "\n",
      "    JSON Write\n",
      "\n",
      "\u001b[33mcommit 21036d438325b96240106a84f8fcd81d406e3dd4\u001b[m\n",
      "Author: usman <tmusman5@gmail.com>\n",
      "Date:   Tue Mar 16 22:08:42 2021 -0700\n",
      "\n",
      "    JSON Read\n",
      "\n",
      "\u001b[33mcommit aa7f5cd5e7c4d09bb3860804607b0dde611c05dd\u001b[m\n",
      "Author: usman <tmusman5@gmail.com>\n",
      "Date:   Tue Mar 16 21:50:56 2021 -0700\n",
      "\n",
      "    Parquet Read/Write Revision\n",
      "\n",
      "\u001b[33mcommit 4b81b225d078da57d0ffd9bc35174046e37c5c36\u001b[m\n",
      "Author: usman <tmusman5@gmail.com>\n",
      "Date:   Mon Mar 15 03:22:41 2021 -0700\n",
      "\n",
      "    Revision\n",
      "\n",
      "\u001b[33mcommit 72b98b0edeef0537566aa48fdebbbb91c925d434\u001b[m\n",
      "Author: Muhammed-Usman <tmusman5@gmail.com>\n",
      "Date:   Mon Mar 8 21:07:10 2021 +0500\n",
      "\n",
      "    Notebook loading issues corrected with removing head\n",
      "\n",
      "\u001b[33mcommit 69b6a3c574633b6a6a3bac646d04f4bf6700c977\u001b[m\n",
      "Merge: 4ed1679 bc8f598\n",
      "Author: Muhammed-Usman <tmusman5@gmail.com>\n",
      "Date:   Mon Mar 8 20:54:21 2021 +0500\n",
      "\n",
      "    Merge branch 'linuxPiplock' of https://github.com/Mohammed-Usman/LearningSpark into linuxPiplock\n",
      "\n",
      "\u001b[33mcommit bc8f5987e365eae6abc91a295b5b681730a354a5\u001b[m\n",
      "Author: usman <tmusman5@gmail.com>\n",
      "Date:   Mon Mar 8 05:23:01 2021 -0800\n",
      "\n",
      "    Parquet read/write\n",
      "\n",
      "\u001b[33mcommit 28e70ad330a83ad5f8f5304a49a0ead937f637f5\u001b[m\n",
      "Author: usman <tmusman5@gmail.com>\n",
      "Date:   Mon Mar 8 05:07:03 2021 -0800\n",
      "\n",
      "    Parquet Read/Write\n",
      "\n",
      "\u001b[33mcommit f73c3573122baa7c7e4a3279f7b4e43822997052\u001b[m\n",
      "Author: usman <tmusman5@gmail.com>\n",
      "Date:   Mon Mar 8 04:18:19 2021 -0800\n",
      "\n",
      "    Data from Databriks added\n",
      "\n",
      "\u001b[33mcommit 5d114466749f8b8466e76a97c1a427d82887a679\u001b[m\n",
      "Author: usman <tmusman5@gmail.com>\n",
      "Date:   Mon Mar 8 04:09:06 2021 -0800\n",
      "\n",
      "    DataFrameWriter, write/writeStream\n",
      "\n",
      "\u001b[33mcommit e82873c392933a738cb3fe26c08eff0e69bafc21\u001b[m\n",
      "Author: usman <tmusman5@gmail.com>\n",
      "Date:   Mon Mar 8 04:08:14 2021 -0800\n",
      "\n",
      "    DateFrameReader, read/readStream\n",
      "\n",
      "\u001b[33mcommit 46c0fcb75089edbce35818e8b5600cccf88f27e4\u001b[m\n",
      "Author: usman <tmusman5@gmail.com>\n",
      "Date:   Mon Mar 8 03:32:27 2021 -0800\n",
      "\n",
      "    Creating/Droping Global and Temp view\n",
      "\n",
      "\u001b[33mcommit 1ede3d015f2c6c9353748030755f336fec315140\u001b[m\n",
      "Author: usman <tmusman5@gmail.com>\n",
      "Date:   Mon Mar 8 01:06:42 2021 -0800\n",
      "\n",
      "    Recreated Accidently deleted Db,tbl\n",
      "\n",
      "\u001b[33mcommit 553191933b6a8fbb422393d4063766c7bdffe5e7\u001b[m\n",
      "Author: usman <tmusman5@gmail.com>\n",
      "Date:   Mon Mar 8 01:05:19 2021 -0800\n",
      "\n",
      "    Recreated Accidently deleted Db\n",
      "\n",
      "\u001b[33mcommit be6fed2069049ec33705dcfd05ef1c92d1fc9f0c\u001b[m\n",
      "Author: usman <tmusman5@gmail.com>\n",
      "Date:   Mon Mar 8 00:48:19 2021 -0800\n",
      "\n",
      "    Recreated Accidently deleted csv file\n",
      "\n",
      "\u001b[33mcommit e26687742a4e8d25c0118977d9508c221fd8b529\u001b[m\n",
      "Author: usman <tmusman5@gmail.com>\n",
      "Date:   Mon Mar 8 00:27:30 2021 -0800\n",
      "\n",
      "    Creating an unmanaged table inside folder\n",
      "\n",
      "\u001b[33mcommit 6709b8467120669fc86b72f2364ace54a94ebed8\u001b[m\n",
      "Author: usman <tmusman5@gmail.com>\n",
      "Date:   Mon Mar 8 00:03:06 2021 -0800\n",
      "\n",
      "    Creating an unmanaged table\n",
      "\n",
      "\u001b[33mcommit 6c424ea8e90318cb191be8c709390f6d173cac46\u001b[m\n",
      "Author: usman <tmusman5@gmail.com>\n",
      "Date:   Sun Mar 7 23:48:00 2021 -0800\n",
      "\n",
      "    Modified Git Commands\n",
      "\n",
      "\u001b[33mcommit 970664ecf550c410e2b06987dac8ae0bc61ac518\u001b[m\n",
      "Author: usman <tmusman5@gmail.com>\n",
      "Date:   Sun Mar 7 23:42:02 2021 -0800\n",
      "\n",
      "    Table, db drop and recreated\n",
      "\n",
      "\u001b[33mcommit c8afb78c91614f5ac08c3010b882124439d92f08\u001b[m\n",
      "Author: usman <tmusman5@gmail.com>\n",
      "Date:   Sun Mar 7 22:52:24 2021 -0800\n",
      "\n",
      "    git commandas from notebook\n",
      "\n",
      "\u001b[33mcommit 4ed1679dcb42bd12bb7c9d464a61597610be28fd\u001b[m\n",
      "Author: Muhammed-Usman <tmusman5@gmail.com>\n",
      "Date:   Sun Mar 7 08:29:22 2021 +0500\n",
      "\n",
      "    Warehouse db tables CRUD ops\n",
      "\n",
      "\u001b[33mcommit dfaea9499c07e0f0a5ccb57b4146b777f52dcba7\u001b[m\n",
      "Author: Muhammed-Usman <tmusman5@gmail.com>\n",
      "Date:   Sat Mar 6 21:26:04 2021 +0500\n",
      "\n",
      "    Warehouse db created in linux\n",
      "\n",
      "\u001b[33mcommit 25fe5716f9f764631f27c4073dede3357d288639\u001b[m\n",
      "Author: Muhammed-Usman <tmusman5@gmail.com>\n",
      "Date:   Sat Mar 6 21:09:28 2021 +0500\n",
      "\n",
      "    New Branch for linux as spark-warehouse was not working in Windows\n",
      "\n",
      "\u001b[33mcommit 92de2fd9ff0fe659fe9ee659d54159c9f285d7b2\u001b[m\n",
      "Author: Mohammed-Usman <tmusman5@gmail.com>\n",
      "Date:   Fri Mar 5 18:09:55 2021 +0500\n",
      "\n",
      "    Requirements file generated\n",
      "\n",
      "\u001b[33mcommit 32d4e0765e78cbc58b7007a1db82a0e6e44c93de\u001b[m\n",
      "Author: Mohammed-Usman <tmusman5@gmail.com>\n",
      "Date:   Fri Mar 5 16:08:45 2021 +0500\n",
      "\n",
      "    Unable to create database\n",
      "\n",
      "\u001b[33mcommit fb1ce81e6b9bcf722fcc14c44dd76f6fd483a9ef\u001b[m\n",
      "Author: Mohammed-Usman <tmusman5@gmail.com>\n",
      "Date:   Fri Mar 5 10:52:42 2021 +0500\n",
      "\n",
      "    Creating SQL Databases and Tables\n",
      "\n",
      "\u001b[33mcommit 610e64b91fa6660f23dea9ae6dfe7defe059e968\u001b[m\n",
      "Author: Mohammed-Usman <tmusman5@gmail.com>\n",
      "Date:   Fri Mar 5 10:52:30 2021 +0500\n",
      "\n",
      "    Managed Versus UnmanagedTables\n",
      "\n",
      "\u001b[33mcommit ee8d1295b6724b2ad6cc7b7d1e6f8455725c1bc8\u001b[m\n",
      "Author: Mohammed-Usman <tmusman5@gmail.com>\n",
      "Date:   Fri Mar 5 10:52:08 2021 +0500\n",
      "\n",
      "    SQL Tables and Views\n",
      "\n",
      "\u001b[33mcommit 0f4f9de1b0ca778564d35825dfcb91c3fef9e1bd\u001b[m\n",
      "Author: Mohammed-Usman <tmusman5@gmail.com>\n",
      "Date:   Thu Mar 4 14:06:27 2021 +0500\n",
      "\n",
      "    DataFrame API WRT SQL\n",
      "\n",
      "\u001b[33mcommit e301de69083c603e425a7586f9734473e79ec31d\u001b[m\n",
      "Author: Mohammed-Usman <tmusman5@gmail.com>\n",
      "Date:   Thu Mar 4 13:03:57 2021 +0500\n",
      "\n",
      "    UDF to convert date column to formatted column\n",
      "\n",
      "\u001b[33mcommit 7ee3c9395a588bcce7014143619b118f3f47baca\u001b[m\n",
      "Author: Mohammed-Usman <tmusman5@gmail.com>\n",
      "Date:   Thu Mar 4 11:13:13 2021 +0500\n",
      "\n",
      "    Chapter 4 started\n",
      "\n",
      "\u001b[33mcommit 8a5602fec826c8025a5503ffc1e4e6ebe65083ef\u001b[m\n",
      "Author: Mohammed-Usman <tmusman5@gmail.com>\n",
      "Date:   Thu Mar 4 11:04:49 2021 +0500\n",
      "\n",
      "    Chapter 3 completed\n",
      "\n",
      "\u001b[33mcommit a36c5b1f5b6278e22b30e3b6402dba60b7eaa6d9\u001b[m\n",
      "Author: Mohammed-Usman <tmusman5@gmail.com>\n",
      "Date:   Thu Mar 4 10:51:02 2021 +0500\n",
      "\n",
      "    Chapter 3 completed\n",
      "\n",
      "\u001b[33mcommit 78ceabb3f4ced8c1c2935d2de52756333d097873\u001b[m\n",
      "Author: Mohammed-Usman <tmusman5@gmail.com>\n",
      "Date:   Thu Mar 4 10:47:36 2021 +0500\n",
      "\n",
      "    Chapter 4 completed\n",
      "\n",
      "\u001b[33mcommit e10e667cc5026ea5e13ba3b6a769e427eb8ecbf3\u001b[m\n",
      "Author: Mohammed-Usman <tmusman5@gmail.com>\n",
      "Date:   Thu Mar 4 09:40:22 2021 +0500\n",
      "\n",
      "    Learning Spark Book Highlighted\n",
      "\n",
      "\u001b[33mcommit 717226b78e82b9e61541565f1322f104795160b8\u001b[m\n",
      "Author: Mohammed-Usman <tmusman5@gmail.com>\n",
      "Date:   Wed Mar 3 17:44:08 2021 +0500\n",
      "\n",
      "    Sql Query Within Spark\n",
      "\n",
      "\u001b[33mcommit 0f6f1421eca173e9338b5c910385793ce4cf60df\u001b[m\n",
      "Author: Mohammed-Usman <tmusman5@gmail.com>\n",
      "Date:   Wed Mar 3 15:04:51 2021 +0500\n",
      "\n",
      "    Q1 Soln With Group By and Distinct\n",
      "\n",
      "\u001b[33mcommit 6e4bbb9456aff257f2d730364136ea4685b95e06\u001b[m\n",
      "Author: Mohammed-Usman <tmusman5@gmail.com>\n",
      "Date:   Wed Mar 3 13:07:03 2021 +0500\n",
      "\n",
      "    Q5 Soln\n",
      "\n",
      "\u001b[33mcommit da417041c71098d5f1ce49f819c7b7ac7f4c3426\u001b[m\n",
      "Author: Mohammed-Usman <tmusman5@gmail.com>\n",
      "Date:   Wed Mar 3 12:53:40 2021 +0500\n",
      "\n",
      "    Q3 Soln\n",
      "\n",
      "\u001b[33mcommit 839bc31e67c9230dfdc4c85fe5827b0dccee191c\u001b[m\n",
      "Author: Mohammed-Usman <tmusman5@gmail.com>\n",
      "Date:   Wed Mar 3 12:38:50 2021 +0500\n",
      "\n",
      "    Notebook reference added\n",
      "\n",
      "\u001b[33mcommit 30fc09399d25bd8906c999077fb57b4538dbaff9\u001b[m\n",
      "Author: Mohammed-Usman <tmusman5@gmail.com>\n",
      "Date:   Wed Mar 3 12:30:29 2021 +0500\n",
      "\n",
      "    Notebook Updated For Chap 3\n",
      "\n",
      "\u001b[33mcommit 29347c2def4d346b7cbc220695e156edc29fb5bb\u001b[m\n",
      "Author: Mohammed-Usman <tmusman5@gmail.com>\n",
      "Date:   Wed Mar 3 12:17:31 2021 +0500\n",
      "\n",
      "    GitIgnore Added\n",
      "\n",
      "\u001b[33mcommit 6dd982995d5962d91e880ac780a23050169557ac\u001b[m\n",
      "Author: Usman <tmusman5@gmail.com>\n",
      "Date:   Wed Mar 3 12:12:47 2021 +0500\n",
      "\n",
      "    Chap-3 End-to-End DataFrame Example\n"
     ]
    }
   ],
   "source": [
    "!git log"
   ]
  },
  {
   "cell_type": "code",
   "execution_count": null,
   "id": "elementary-cisco",
   "metadata": {},
   "outputs": [],
   "source": []
  }
 ],
 "metadata": {
  "kernelspec": {
   "display_name": "Python 3",
   "language": "python",
   "name": "python3"
  },
  "language_info": {
   "codemirror_mode": {
    "name": "ipython",
    "version": 3
   },
   "file_extension": ".py",
   "mimetype": "text/x-python",
   "name": "python",
   "nbconvert_exporter": "python",
   "pygments_lexer": "ipython3",
   "version": "3.7.10"
  }
 },
 "nbformat": 4,
 "nbformat_minor": 5
}
