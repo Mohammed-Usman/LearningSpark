{
 "cells": [
  {
   "cell_type": "code",
   "execution_count": 32,
   "id": "presidential-cheat",
   "metadata": {},
   "outputs": [
    {
     "name": "stdout",
     "output_type": "stream",
     "text": [
      "On branch linuxPiplock\r\n",
      "Your branch is ahead of 'origin/linuxPiplock' by 4 commits.\r\n",
      "  (use \"git push\" to publish your local commits)\r\n",
      "\r\n",
      "Changes not staged for commit:\r\n",
      "  (use \"git add <file>...\" to update what will be committed)\r\n",
      "  (use \"git checkout -- <file>...\" to discard changes in working directory)\r\n",
      "\r\n",
      "\t\u001b[31mmodified:   .ipynb_checkpoints/Git Commnads-checkpoint.ipynb\u001b[m\r\n",
      "\t\u001b[31mmodified:   .ipynb_checkpoints/Spark SQL and DataFrames - Introduction to Built-in Data Sources-checkpoint.ipynb\u001b[m\r\n",
      "\t\u001b[31mmodified:   Git Commnads.ipynb\u001b[m\r\n",
      "\t\u001b[31mmodified:   Spark SQL and DataFrames - Introduction to Built-in Data Sources.ipynb\u001b[m\r\n",
      "\r\n",
      "no changes added to commit (use \"git add\" and/or \"git commit -a\")\r\n"
     ]
    }
   ],
   "source": [
    "!git status"
   ]
  },
  {
   "cell_type": "code",
   "execution_count": 29,
   "id": "silver-monaco",
   "metadata": {},
   "outputs": [],
   "source": [
    "!git add *"
   ]
  },
  {
   "cell_type": "code",
   "execution_count": 30,
   "id": "conditional-gothic",
   "metadata": {},
   "outputs": [
    {
     "name": "stdout",
     "output_type": "stream",
     "text": [
      "* \u001b[32mlinuxPiplock\u001b[m\r\n",
      "  master\u001b[m\r\n"
     ]
    }
   ],
   "source": [
    "!git branch"
   ]
  },
  {
   "cell_type": "code",
   "execution_count": 31,
   "id": "duplicate-repeat",
   "metadata": {},
   "outputs": [
    {
     "name": "stdout",
     "output_type": "stream",
     "text": [
      "[linuxPiplock 5531919] Recreated Accidently deleted Db\r\n",
      " 14 files changed, 416 insertions(+), 165 deletions(-)\r\n",
      " create mode 100644 Chap4/spark-warehouse/learn_spark_db.db/managed_us_delay_flights_tbl/._SUCCESS.crc\r\n",
      " create mode 100644 Chap4/spark-warehouse/learn_spark_db.db/managed_us_delay_flights_tbl/.part-00000-b0da9e58-24e8-491a-b025-bbaee7a53db7-c000.snappy.parquet.crc\r\n",
      " create mode 100644 Chap4/spark-warehouse/learn_spark_db.db/managed_us_delay_flights_tbl/.part-00001-b0da9e58-24e8-491a-b025-bbaee7a53db7-c000.snappy.parquet.crc\r\n",
      " create mode 100644 Chap4/spark-warehouse/learn_spark_db.db/managed_us_delay_flights_tbl/.part-00002-b0da9e58-24e8-491a-b025-bbaee7a53db7-c000.snappy.parquet.crc\r\n",
      " create mode 100644 Chap4/spark-warehouse/learn_spark_db.db/managed_us_delay_flights_tbl/.part-00003-b0da9e58-24e8-491a-b025-bbaee7a53db7-c000.snappy.parquet.crc\r\n",
      " create mode 100644 Chap4/spark-warehouse/learn_spark_db.db/managed_us_delay_flights_tbl/_SUCCESS\r\n",
      " create mode 100644 Chap4/spark-warehouse/learn_spark_db.db/managed_us_delay_flights_tbl/part-00000-b0da9e58-24e8-491a-b025-bbaee7a53db7-c000.snappy.parquet\r\n",
      " create mode 100644 Chap4/spark-warehouse/learn_spark_db.db/managed_us_delay_flights_tbl/part-00001-b0da9e58-24e8-491a-b025-bbaee7a53db7-c000.snappy.parquet\r\n",
      " create mode 100644 Chap4/spark-warehouse/learn_spark_db.db/managed_us_delay_flights_tbl/part-00002-b0da9e58-24e8-491a-b025-bbaee7a53db7-c000.snappy.parquet\r\n",
      " create mode 100644 Chap4/spark-warehouse/learn_spark_db.db/managed_us_delay_flights_tbl/part-00003-b0da9e58-24e8-491a-b025-bbaee7a53db7-c000.snappy.parquet\r\n"
     ]
    }
   ],
   "source": [
    "!git commit -a -m \"Recreated Accidently deleted Db\""
   ]
  },
  {
   "cell_type": "code",
   "execution_count": null,
   "id": "imperial-czech",
   "metadata": {},
   "outputs": [],
   "source": []
  }
 ],
 "metadata": {
  "kernelspec": {
   "display_name": "Python 3",
   "language": "python",
   "name": "python3"
  },
  "language_info": {
   "codemirror_mode": {
    "name": "ipython",
    "version": 3
   },
   "file_extension": ".py",
   "mimetype": "text/x-python",
   "name": "python",
   "nbconvert_exporter": "python",
   "pygments_lexer": "ipython3",
   "version": "3.7.5"
  }
 },
 "nbformat": 4,
 "nbformat_minor": 5
}
