{
 "cells": [
  {
   "cell_type": "code",
   "execution_count": 26,
   "id": "presidential-cheat",
   "metadata": {},
   "outputs": [
    {
     "name": "stdout",
     "output_type": "stream",
     "text": [
      "On branch linuxPiplock\r\n",
      "Your branch is ahead of 'origin/linuxPiplock' by 2 commits.\r\n",
      "  (use \"git push\" to publish your local commits)\r\n",
      "\r\n",
      "Changes to be committed:\r\n",
      "  (use \"git reset HEAD <file>...\" to unstage)\r\n",
      "\r\n",
      "\t\u001b[32mmodified:   Git Commnads.ipynb\u001b[m\r\n",
      "\t\u001b[32mmodified:   Spark SQL and DataFrames - Introduction to Built-in Data Sources.ipynb\u001b[m\r\n",
      "\t\u001b[32mnew file:   data/departuredelays.csv\u001b[m\r\n",
      "\r\n",
      "Changes not staged for commit:\r\n",
      "  (use \"git add <file>...\" to update what will be committed)\r\n",
      "  (use \"git checkout -- <file>...\" to discard changes in working directory)\r\n",
      "\r\n",
      "\t\u001b[31mmodified:   .ipynb_checkpoints/Spark SQL and DataFrames - Introduction to Built-in Data Sources-checkpoint.ipynb\u001b[m\r\n",
      "\r\n"
     ]
    }
   ],
   "source": [
    "!git status"
   ]
  },
  {
   "cell_type": "code",
   "execution_count": 25,
   "id": "transsexual-curve",
   "metadata": {},
   "outputs": [],
   "source": [
    "!git add *"
   ]
  },
  {
   "cell_type": "code",
   "execution_count": 22,
   "id": "conditional-gothic",
   "metadata": {},
   "outputs": [
    {
     "name": "stdout",
     "output_type": "stream",
     "text": [
      "* \u001b[32mlinuxPiplock\u001b[m\r\n",
      "  master\u001b[m\r\n"
     ]
    }
   ],
   "source": [
    "!git branch"
   ]
  },
  {
   "cell_type": "code",
   "execution_count": 27,
   "id": "duplicate-repeat",
   "metadata": {},
   "outputs": [
    {
     "name": "stdout",
     "output_type": "stream",
     "text": [
      "[linuxPiplock be6fed2] Recreated Accidently deleted csv file\n",
      " 4 files changed, 1391803 insertions(+), 67 deletions(-)\n",
      " create mode 100755 Chap4/data/departuredelays.csv\n"
     ]
    }
   ],
   "source": [
    "!git commit -a -m \"Recreated Accidently deleted csv file\""
   ]
  },
  {
   "cell_type": "code",
   "execution_count": null,
   "id": "representative-roots",
   "metadata": {},
   "outputs": [],
   "source": []
  }
 ],
 "metadata": {
  "kernelspec": {
   "display_name": "Python 3",
   "language": "python",
   "name": "python3"
  },
  "language_info": {
   "codemirror_mode": {
    "name": "ipython",
    "version": 3
   },
   "file_extension": ".py",
   "mimetype": "text/x-python",
   "name": "python",
   "nbconvert_exporter": "python",
   "pygments_lexer": "ipython3",
   "version": "3.7.5"
  }
 },
 "nbformat": 4,
 "nbformat_minor": 5
}
