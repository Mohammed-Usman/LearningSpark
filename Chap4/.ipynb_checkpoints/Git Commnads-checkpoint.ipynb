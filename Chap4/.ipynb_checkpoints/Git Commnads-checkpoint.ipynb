{
 "cells": [
  {
   "cell_type": "code",
   "execution_count": 6,
   "id": "presidential-cheat",
   "metadata": {},
   "outputs": [
    {
     "name": "stdout",
     "output_type": "stream",
     "text": [
      "On branch linuxPiplock\r\n",
      "Your branch is up to date with 'origin/linuxPiplock'.\r\n",
      "\r\n",
      "Changes to be committed:\r\n",
      "  (use \"git reset HEAD <file>...\" to unstage)\r\n",
      "\r\n",
      "\t\u001b[32mmodified:   .ipynb_checkpoints/Spark SQL and DataFrames - Introduction to Built-in Data Sources-checkpoint.ipynb\u001b[m\r\n",
      "\t\u001b[32mmodified:   Git Commnads.ipynb\u001b[m\r\n",
      "\t\u001b[32mmodified:   Spark SQL and DataFrames - Introduction to Built-in Data Sources.ipynb\u001b[m\r\n",
      "\t\u001b[32mmodified:   derby.log\u001b[m\r\n",
      "\t\u001b[32mmodified:   metastore_db/db.lck\u001b[m\r\n",
      "\t\u001b[32mmodified:   metastore_db/log/log.ctrl\u001b[m\r\n",
      "\t\u001b[32mmodified:   metastore_db/log/log1.dat\u001b[m\r\n",
      "\t\u001b[32mmodified:   metastore_db/log/logmirror.ctrl\u001b[m\r\n",
      "\t\u001b[32mmodified:   metastore_db/seg0/c150.dat\u001b[m\r\n",
      "\t\u001b[32mmodified:   metastore_db/seg0/c161.dat\u001b[m\r\n",
      "\t\u001b[32mmodified:   metastore_db/seg0/c171.dat\u001b[m\r\n",
      "\t\u001b[32mmodified:   metastore_db/seg0/c180.dat\u001b[m\r\n",
      "\t\u001b[32mmodified:   metastore_db/seg0/c191.dat\u001b[m\r\n",
      "\t\u001b[32mmodified:   metastore_db/seg0/c1a1.dat\u001b[m\r\n",
      "\t\u001b[32mmodified:   metastore_db/seg0/c1b1.dat\u001b[m\r\n",
      "\t\u001b[32mmodified:   metastore_db/seg0/c230.dat\u001b[m\r\n",
      "\t\u001b[32mmodified:   metastore_db/seg0/c490.dat\u001b[m\r\n",
      "\t\u001b[32mmodified:   metastore_db/seg0/c4a1.dat\u001b[m\r\n",
      "\t\u001b[32mmodified:   metastore_db/seg0/c4d1.dat\u001b[m\r\n",
      "\t\u001b[32mmodified:   metastore_db/seg0/c4f0.dat\u001b[m\r\n",
      "\t\u001b[32mmodified:   metastore_db/seg0/c501.dat\u001b[m\r\n",
      "\t\u001b[32mmodified:   metastore_db/seg0/c510.dat\u001b[m\r\n",
      "\t\u001b[32mmodified:   metastore_db/seg0/c521.dat\u001b[m\r\n",
      "\t\u001b[32mmodified:   metastore_db/seg0/c530.dat\u001b[m\r\n",
      "\t\u001b[32mmodified:   metastore_db/seg0/c541.dat\u001b[m\r\n",
      "\t\u001b[32mmodified:   metastore_db/seg0/c570.dat\u001b[m\r\n",
      "\t\u001b[32mmodified:   metastore_db/seg0/c581.dat\u001b[m\r\n",
      "\t\u001b[32mmodified:   metastore_db/seg0/c610.dat\u001b[m\r\n",
      "\t\u001b[32mmodified:   metastore_db/seg0/c621.dat\u001b[m\r\n",
      "\t\u001b[32mmodified:   metastore_db/seg0/c630.dat\u001b[m\r\n",
      "\t\u001b[32mmodified:   metastore_db/seg0/c641.dat\u001b[m\r\n",
      "\t\u001b[32mmodified:   metastore_db/seg0/c6f0.dat\u001b[m\r\n",
      "\t\u001b[32mmodified:   metastore_db/seg0/c701.dat\u001b[m\r\n",
      "\t\u001b[32mmodified:   metastore_db/seg0/c711.dat\u001b[m\r\n",
      "\t\u001b[32mmodified:   metastore_db/seg0/c721.dat\u001b[m\r\n",
      "\t\u001b[32mmodified:   metastore_db/seg0/c731.dat\u001b[m\r\n",
      "\t\u001b[32mmodified:   metastore_db/seg0/c741.dat\u001b[m\r\n",
      "\t\u001b[32mmodified:   metastore_db/seg0/c751.dat\u001b[m\r\n",
      "\t\u001b[32mmodified:   metastore_db/seg0/c7b1.dat\u001b[m\r\n",
      "\t\u001b[32mmodified:   metastore_db/seg0/c7c1.dat\u001b[m\r\n",
      "\t\u001b[32mmodified:   metastore_db/seg0/c831.dat\u001b[m\r\n",
      "\t\u001b[32mmodified:   metastore_db/seg0/c90.dat\u001b[m\r\n",
      "\t\u001b[32mmodified:   metastore_db/seg0/c9a0.dat\u001b[m\r\n",
      "\t\u001b[32mmodified:   metastore_db/seg0/ca1.dat\u001b[m\r\n",
      "\t\u001b[32mmodified:   metastore_db/seg0/ca90.dat\u001b[m\r\n",
      "\t\u001b[32mmodified:   metastore_db/seg0/caa1.dat\u001b[m\r\n",
      "\t\u001b[32mmodified:   metastore_db/seg0/cab1.dat\u001b[m\r\n",
      "\t\u001b[32mmodified:   metastore_db/seg0/cac1.dat\u001b[m\r\n",
      "\t\u001b[32mmodified:   metastore_db/seg0/cb1.dat\u001b[m\r\n",
      "\t\u001b[32mnew file:   ../temp/data/parquet/df_parquet/.part-00000-20415199-1bb9-45a6-addf-8a45fb53d462-c000.snappy.parquet.crc\u001b[m\r\n",
      "\t\u001b[32mdeleted:    ../temp/data/parquet/df_parquet/.part-00000-d4c649dd-ba9e-4218-b723-12c664cfbdd1-c000.snappy.parquet.crc\u001b[m\r\n",
      "\t\u001b[32mrenamed:    ../temp/data/parquet/df_parquet/part-00000-d4c649dd-ba9e-4218-b723-12c664cfbdd1-c000.snappy.parquet -> ../temp/data/parquet/df_parquet/part-00000-20415199-1bb9-45a6-addf-8a45fb53d462-c000.snappy.parquet\u001b[m\r\n",
      "\r\n"
     ]
    }
   ],
   "source": [
    "!git status"
   ]
  },
  {
   "cell_type": "code",
   "execution_count": 4,
   "id": "directed-matter",
   "metadata": {},
   "outputs": [],
   "source": [
    "!git add ."
   ]
  },
  {
   "cell_type": "code",
   "execution_count": 3,
   "id": "guided-infrastructure",
   "metadata": {},
   "outputs": [
    {
     "name": "stdout",
     "output_type": "stream",
     "text": [
      "  \u001b[31morigin/HEAD\u001b[m -> origin/master\r\n",
      "  \u001b[31morigin/linuxPiplock\u001b[m\r\n",
      "  \u001b[31morigin/main\u001b[m\r\n",
      "  \u001b[31morigin/master\u001b[m\r\n"
     ]
    }
   ],
   "source": [
    "!git branch -r"
   ]
  },
  {
   "cell_type": "code",
   "execution_count": 2,
   "id": "conditional-gothic",
   "metadata": {},
   "outputs": [
    {
     "name": "stdout",
     "output_type": "stream",
     "text": [
      "* \u001b[32mlinuxPiplock\u001b[m\r\n",
      "  master\u001b[m\r\n"
     ]
    }
   ],
   "source": [
    "!git branch"
   ]
  },
  {
   "cell_type": "code",
   "execution_count": 7,
   "id": "duplicate-repeat",
   "metadata": {},
   "outputs": [
    {
     "name": "stdout",
     "output_type": "stream",
     "text": [
      "\r\n",
      "*** Please tell me who you are.\r\n",
      "\r\n",
      "Run\r\n",
      "\r\n",
      "  git config --global user.email \"you@example.com\"\r\n",
      "  git config --global user.name \"Your Name\"\r\n",
      "\r\n",
      "to set your account's default identity.\r\n",
      "Omit --global to set the identity only in this repository.\r\n",
      "\r\n",
      "fatal: unable to auto-detect email address (got 'usman@ubuntu.(none)')\r\n"
     ]
    }
   ],
   "source": [
    "!git commit -a -m \"Parquet Read/Write Revision\""
   ]
  },
  {
   "cell_type": "code",
   "execution_count": null,
   "id": "convertible-mixer",
   "metadata": {},
   "outputs": [],
   "source": []
  }
 ],
 "metadata": {
  "kernelspec": {
   "display_name": "Python 3",
   "language": "python",
   "name": "python3"
  },
  "language_info": {
   "codemirror_mode": {
    "name": "ipython",
    "version": 3
   },
   "file_extension": ".py",
   "mimetype": "text/x-python",
   "name": "python",
   "nbconvert_exporter": "python",
   "pygments_lexer": "ipython3",
   "version": "3.7.10"
  }
 },
 "nbformat": 4,
 "nbformat_minor": 5
}
