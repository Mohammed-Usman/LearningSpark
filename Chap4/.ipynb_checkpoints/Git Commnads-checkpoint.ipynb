{
 "cells": [
  {
   "cell_type": "code",
   "execution_count": 100,
   "id": "presidential-cheat",
   "metadata": {},
   "outputs": [
    {
     "name": "stdout",
     "output_type": "stream",
     "text": [
      "On branch linuxPiplock\n",
      "Your branch is ahead of 'origin/linuxPiplock' by 1 commit.\n",
      "  (use \"git push\" to publish your local commits)\n",
      "\n",
      "nothing to commit, working tree clean\n"
     ]
    }
   ],
   "source": [
    "!git status"
   ]
  },
  {
   "cell_type": "code",
   "execution_count": 97,
   "id": "directed-matter",
   "metadata": {},
   "outputs": [],
   "source": [
    "!git add *"
   ]
  },
  {
   "cell_type": "code",
   "execution_count": 89,
   "id": "guided-infrastructure",
   "metadata": {},
   "outputs": [
    {
     "name": "stdout",
     "output_type": "stream",
     "text": [
      "  \u001b[31morigin/HEAD\u001b[m -> origin/master\r\n",
      "  \u001b[31morigin/linuxPiplock\u001b[m\r\n",
      "  \u001b[31morigin/main\u001b[m\r\n",
      "  \u001b[31morigin/master\u001b[m\r\n"
     ]
    }
   ],
   "source": [
    "!git branch -r"
   ]
  },
  {
   "cell_type": "code",
   "execution_count": 98,
   "id": "conditional-gothic",
   "metadata": {},
   "outputs": [
    {
     "name": "stdout",
     "output_type": "stream",
     "text": [
      "* \u001b[32mlinuxPiplock\u001b[m\r\n",
      "  master\u001b[m\r\n"
     ]
    }
   ],
   "source": [
    "!git branch"
   ]
  },
  {
   "cell_type": "code",
   "execution_count": 99,
   "id": "duplicate-repeat",
   "metadata": {},
   "outputs": [
    {
     "name": "stdout",
     "output_type": "stream",
     "text": [
      "[linuxPiplock 28e70ad] Parquet Read/Write\r\n",
      " 8 files changed, 1880 insertions(+), 908 deletions(-)\r\n",
      " rewrite Chap4/Git Commnads.ipynb (97%)\r\n",
      " create mode 100644 temp/data/parquet/df_parquet/._SUCCESS.crc\r\n",
      " create mode 100644 temp/data/parquet/df_parquet/.part-00000-d4c649dd-ba9e-4218-b723-12c664cfbdd1-c000.snappy.parquet.crc\r\n",
      " create mode 100644 temp/data/parquet/df_parquet/_SUCCESS\r\n",
      " create mode 100644 temp/data/parquet/df_parquet/part-00000-d4c649dd-ba9e-4218-b723-12c664cfbdd1-c000.snappy.parquet\r\n"
     ]
    }
   ],
   "source": [
    "!git commit -a -m \"Parquet Read/Write\""
   ]
  },
  {
   "cell_type": "code",
   "execution_count": null,
   "id": "convertible-mixer",
   "metadata": {},
   "outputs": [],
   "source": []
  }
 ],
 "metadata": {
  "kernelspec": {
   "display_name": "Python 3",
   "language": "python",
   "name": "python3"
  },
  "language_info": {
   "codemirror_mode": {
    "name": "ipython",
    "version": 3
   },
   "file_extension": ".py",
   "mimetype": "text/x-python",
   "name": "python",
   "nbconvert_exporter": "python",
   "pygments_lexer": "ipython3",
   "version": "3.7.5"
  }
 },
 "nbformat": 4,
 "nbformat_minor": 5
}
