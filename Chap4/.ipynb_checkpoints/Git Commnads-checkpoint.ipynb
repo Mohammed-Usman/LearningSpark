{
 "cells": [
  {
   "cell_type": "code",
   "execution_count": 71,
   "id": "presidential-cheat",
   "metadata": {},
   "outputs": [
    {
     "name": "stdout",
     "output_type": "stream",
     "text": [
      "On branch linuxPiplock\r\n",
      "Your branch is ahead of 'origin/linuxPiplock' by 1 commit.\r\n",
      "  (use \"git push\" to publish your local commits)\r\n",
      "\r\n",
      "Changes to be committed:\r\n",
      "  (use \"git reset HEAD <file>...\" to unstage)\r\n",
      "\r\n",
      "\t\u001b[32mmodified:   .ipynb_checkpoints/Git Commnads-checkpoint.ipynb\u001b[m\r\n",
      "\t\u001b[32mmodified:   .ipynb_checkpoints/Spark SQL and DataFrames - Introduction to Built-in Data Sources-checkpoint.ipynb\u001b[m\r\n",
      "\t\u001b[32mmodified:   Git Commnads.ipynb\u001b[m\r\n",
      "\t\u001b[32mmodified:   Spark SQL and DataFrames - Introduction to Built-in Data Sources.ipynb\u001b[m\r\n",
      "\r\n"
     ]
    }
   ],
   "source": [
    "!git status"
   ]
  },
  {
   "cell_type": "code",
   "execution_count": 70,
   "id": "rural-mitchell",
   "metadata": {},
   "outputs": [],
   "source": [
    "!git add ."
   ]
  },
  {
   "cell_type": "code",
   "execution_count": 49,
   "id": "starting-bread",
   "metadata": {},
   "outputs": [
    {
     "name": "stdout",
     "output_type": "stream",
     "text": [
      "  \u001b[31morigin/HEAD\u001b[m -> origin/master\r\n",
      "  \u001b[31morigin/linuxPiplock\u001b[m\r\n",
      "  \u001b[31morigin/main\u001b[m\r\n",
      "  \u001b[31morigin/master\u001b[m\r\n"
     ]
    }
   ],
   "source": [
    "!git branch -r"
   ]
  },
  {
   "cell_type": "code",
   "execution_count": 67,
   "id": "conditional-gothic",
   "metadata": {},
   "outputs": [
    {
     "name": "stdout",
     "output_type": "stream",
     "text": [
      "* \u001b[32mlinuxPiplock\u001b[m\r\n",
      "  master\u001b[m\r\n"
     ]
    }
   ],
   "source": [
    "!git branch"
   ]
  },
  {
   "cell_type": "code",
   "execution_count": 68,
   "id": "duplicate-repeat",
   "metadata": {},
   "outputs": [
    {
     "name": "stdout",
     "output_type": "stream",
     "text": [
      "[linuxPiplock e82873c] DateFrameReader, read/readStream\r\n",
      " 4 files changed, 321 insertions(+), 114 deletions(-)\r\n"
     ]
    }
   ],
   "source": [
    "!git commit -a -m \"DataFrameWriter, write/writeStream\""
   ]
  },
  {
   "cell_type": "code",
   "execution_count": null,
   "id": "known-treasury",
   "metadata": {},
   "outputs": [],
   "source": []
  }
 ],
 "metadata": {
  "kernelspec": {
   "display_name": "Python 3",
   "language": "python",
   "name": "python3"
  },
  "language_info": {
   "codemirror_mode": {
    "name": "ipython",
    "version": 3
   },
   "file_extension": ".py",
   "mimetype": "text/x-python",
   "name": "python",
   "nbconvert_exporter": "python",
   "pygments_lexer": "ipython3",
   "version": "3.7.5"
  }
 },
 "nbformat": 4,
 "nbformat_minor": 5
}
